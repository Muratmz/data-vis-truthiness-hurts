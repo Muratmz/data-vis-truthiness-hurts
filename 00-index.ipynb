{
 "cells": [
  {
   "cell_type": "markdown",
   "metadata": {},
   "source": [
    "# Workshop B2\n",
    "\n",
    "## Data Visualization: Truthiness Hurts\n",
    "### *Louise Lever, University of Manchester*\n",
    "\n",
    "> Good data visualization requires as much thought about ethics and design as it does about techniques and technologies. While the provenance and quality of the data should be well understood, it’s all too easy to take “good” data and misunderstand it, misrepresent it, and outright lie about it. Similarly “bad” data can be massaged in a way to make it seem it is valuable and truthful. As the visual representation and accompanying message becomes more subjective, the quality of that message leads to truthiness where it begins to “feel right” and there is little regard for logic or facts. The workshop will take attendees through an array of examples and exercises demonstrating how the choice of visualization idioms and their application can impact heavily on the message to the audience. With examples ranging from the ridiculous to the disingenuous, attendees will also get to create and modify some data visualizations in the Jupyter notebook driven session."
   ]
  },
  {
   "cell_type": "markdown",
   "metadata": {},
   "source": [
    "### Activities"
   ]
  },
  {
   "cell_type": "markdown",
   "metadata": {},
   "source": [
    "### [01 - Introduction](01-introduction.ipynb)\n",
    "### [02 - Representation](02-representation.ipynb)\n",
    "### [03 - Perception](03-perception.ipynb)\n",
    "### [04 - Misrepresentation](04-misrepresentation.ipynb)"
   ]
  },
  {
   "cell_type": "code",
   "execution_count": null,
   "metadata": {
    "collapsed": true
   },
   "outputs": [],
   "source": []
  }
 ],
 "metadata": {
  "anaconda-cloud": {},
  "kernelspec": {
   "display_name": "Python [conda root]",
   "language": "python",
   "name": "conda-root-py"
  },
  "language_info": {
   "codemirror_mode": {
    "name": "ipython",
    "version": 3
   },
   "file_extension": ".py",
   "mimetype": "text/x-python",
   "name": "python",
   "nbconvert_exporter": "python",
   "pygments_lexer": "ipython3",
   "version": "3.5.2"
  }
 },
 "nbformat": 4,
 "nbformat_minor": 1
}
