{
 "cells": [
  {
   "cell_type": "markdown",
   "metadata": {},
   "source": [
    "<div style=\"border-bottom: 2px solid #aaaaaa; border-right: 2px solid #aaaaaa; box-shadow: 5px 5px 3px #eeeeee;\">\n",
    "<h1>02 &#9658; Data Representation</h1>\n",
    "</div>"
   ]
  },
  {
   "cell_type": "markdown",
   "metadata": {},
   "source": [
    "Each visualization technique/idiom is suited to demonstrating particular types of data. How applicable a particular technique is, is sometimes obvious, or sometimes a design choice. Starting with the familiar pie chart,\n",
    "we can see how well *proportions* are represented."
   ]
  },
  {
   "cell_type": "markdown",
   "metadata": {},
   "source": [
    "We'll start with a test. There's some code to run first.... don't look too closely just yet!"
   ]
  },
  {
   "cell_type": "code",
   "execution_count": null,
   "metadata": {
    "collapsed": true
   },
   "outputs": [],
   "source": [
    "%matplotlib inline\n",
    "import matplotlib.pyplot as plt\n",
    "\n",
    "from bqplot import *\n",
    "import numpy as np\n",
    "import pandas as pd\n",
    "\n",
    "from ipywidgets import *\n",
    "from IPython.display import display"
   ]
  },
  {
   "cell_type": "code",
   "execution_count": null,
   "metadata": {
    "collapsed": true
   },
   "outputs": [],
   "source": [
    "# some chart and figure templates\n",
    "\n",
    "no_margin = dict(left=0, right=0, top=0, bottom=0)\n",
    "sm_margin = dict(left=5, right=5, top=5, bottom=5)\n",
    "bar_margin = dict(left=20, right=0, top=0, bottom=20)\n",
    "\n",
    "eg_pie_margin = dict(left=0, right=0, top=0, bottom=0)\n",
    "\n",
    "pie_tmpl = dict(radius=100, labels = ['A','B','C','D','E'],\n",
    "                label_color = 'white', font_size = '20px', font_weight = 'normal')\n",
    "fig_tmpl = dict(animation_duration=1000, fig_margin=no_margin, min_width=250, min_height=250)\n",
    "\n",
    "bar_chart_tmpl = dict(padding=0.2, type='grouped', colors=['#dd7777','#7777dd'])\n",
    "bar_fig_tmpl = dict(min_width=250, min_height=250, fig_margin=bar_margin)\n",
    "hbox_tmpl = dict(width=\"250px\", border=\"solid 1px #dddddd\")\n",
    "eg_box_tmpl = dict(width=\"500px\", height=\"500px\", border=\"solid 1px #dddddd\")"
   ]
  },
  {
   "cell_type": "code",
   "execution_count": null,
   "metadata": {
    "collapsed": true
   },
   "outputs": [],
   "source": [
    "# bqplot bar chart, figure and legend helper functions\n",
    "\n",
    "def mk_eg_pie(eg_pie):\n",
    "    pie = Pie(**eg_pie,radius = 180)\n",
    "    pie.label_color = 'white'\n",
    "    pie.font_size = '20px'\n",
    "    pie.font_weight = 'normal'\n",
    "    fig = Figure(marks=[pie], fig_margin=eg_pie_margin, min_width=400, min_height=400)\n",
    "    fig.layout.width = 400\n",
    "    fig.layout.height = 400\n",
    "    box = VBox([fig])\n",
    "    return box\n",
    "\n",
    "def mk_eg_bar(eg_bar):\n",
    "    x_scale = OrdinalScale()\n",
    "    y_scale = LinearScale()\n",
    "    bar = Bars(**eg_bar, scales={\"x\":x_scale, \"y\":y_scale}, padding=0.2)\n",
    "    ax_x = Axis(scale=x_scale)\n",
    "    ax_y = Axis(scale=y_scale, orientation='vertical', tick_format='0.0f')\n",
    "    fig = Figure(marks=[bar], axes=[ax_x, ax_y], min_width=400, min_height=400, fig_margin=bar_margin)\n",
    "    fig.layout.width = 400\n",
    "    fig.layout.height = 400\n",
    "    box = VBox([fig])\n",
    "    return box\n",
    "\n",
    "def mk_bar_chart(x, y, xy_scales, b_tmpl):\n",
    "    return Bars(x=x, y=y, scales=xy_scales, **b_tmpl)\n",
    "\n",
    "def mk_bar_figure(bar,f_tmpl):\n",
    "    ax_x = Axis(scale=bar.scales['x'])\n",
    "    ax_y = Axis(scale=bar.scales['y'], orientation='vertical', tick_format='0.0f')\n",
    "    new_fig = Figure(marks=[bar], axes=[ax_x, ax_y], **f_tmpl)\n",
    "    return new_fig\n",
    "\n",
    "def mk_legend(labels):\n",
    "    leg_x_scale = OrdinalScale()\n",
    "    leg_y_scale = LinearScale()\n",
    "    leg_chart = Bars(x=[0,1], y=[[0,0],[0,0]],\n",
    "                     scales={'x': leg_x_scale, 'y': leg_y_scale},\n",
    "                     **bar_chart_tmpl, \n",
    "                     labels=labels,\n",
    "                     display_legend=True)\n",
    "    leg_ax_x = Axis(scale=leg_x_scale)\n",
    "    leg_ax_y = Axis(scale=leg_y_scale, orientation='vertical', tick_format='0.0f')\n",
    "    leg_fig = Figure(marks=[leg_chart],legend_location='top-left',min_width=250,min_height=75,fig_margin=bar_margin)\n",
    "    \n",
    "    return leg_fig\n",
    "\n",
    "# ipywidget observer update and submit functions\n",
    "\n",
    "def upd_estimate_observe(update):\n",
    "    update['owner'].data_ref[update['owner'].pie_index]['estimated'][update['owner'].label_index] = update['new']\n",
    "    \n",
    "def submit_guesses(b):\n",
    "    for i, chart in enumerate(b.dashboard['bar_charts']):\n",
    "        chart.y = b.dashboard['bar_data'][i]\n",
    "    if b.dashboard['displayed'] == False:\n",
    "        display(b.dashboard['ui_bars'])\n",
    "        display(b.dashboard['legend'])\n",
    "        b.description='Update'\n",
    "        b.dashboard['displayed'] = True"
   ]
  },
  {
   "cell_type": "code",
   "execution_count": null,
   "metadata": {
    "collapsed": false
   },
   "outputs": [],
   "source": [
    "def mk_pie_test_dashboard(dataset):\n",
    "    \n",
    "    dashboard = {}\n",
    "    dashboard['dataset'] = dataset\n",
    "    dashboard['displayed'] = False\n",
    "    \n",
    "    dashboard['scales'] = {'x':OrdinalScale(), 'y':LinearScale()}\n",
    "    dashboard['x_data'] = ['A','B','C','D','E']\n",
    "    \n",
    "    # load the specified dataset\n",
    "    with open(dataset, 'r') as fp:\n",
    "        dashboard['y_data'] = json.load(fp)\n",
    "        \n",
    "    # add some initial data for user estimates\n",
    "    for d in dashboard['y_data']:\n",
    "        d['estimated'] = [0,0,0,0,0]\n",
    "        \n",
    "    # use bqplot to create some Pie and Figure objects\n",
    "    dashboard['pies'] = [Pie(**d,**pie_tmpl) for d in dashboard['y_data']]\n",
    "    dashboard['figs'] = [Figure(marks=[p],**fig_tmpl) for p in dashboard['pies']]\n",
    "    dashboard['fig_boxes'] = [HBox([f],**hbox_tmpl) for f in dashboard['figs']]\n",
    "    \n",
    "    # build up corresponding bar chart data and the bar charts\n",
    "    dashboard['bar_data'] = [[d['sizes'],d['estimated']] for d in dashboard['y_data']]\n",
    "    dashboard['bar_charts'] = [mk_bar_chart(dashboard['x_data'], y, dashboard['scales'], bar_chart_tmpl)\n",
    "                               for y in dashboard['bar_data']]\n",
    "    dashboard['bar_figs'] = [mk_bar_figure(b, bar_fig_tmpl) for b in dashboard['bar_charts']]\n",
    "    dashboard['bar_boxes'] = [HBox([bf],**hbox_tmpl) for bf in dashboard['bar_figs']]\n",
    "    \n",
    "    dashboard['legend'] = mk_legend(['Actual','Estimated'])\n",
    "    \n",
    "    # build up all the Text widgets for estimates\n",
    "    dashboard['widgets'] = []\n",
    "    for i_pie,x in enumerate(dashboard['y_data']):\n",
    "        dashboard['widgets'].append([])\n",
    "        for i_seg,seg in enumerate(dashboard['y_data'][i_pie]['estimated']):\n",
    "            tmp_w = IntText(value=str(seg),\n",
    "                            description=pie_tmpl['labels'][i_seg],\n",
    "                            data_ref=dashboard['y_data'],\n",
    "                            pie_index=i_pie,\n",
    "                            label_index=i_seg)\n",
    "            tmp_w.layout.width = '150px'\n",
    "            tmp_w.observe(upd_estimate_observe, names=\"value\")\n",
    "            dashboard['widgets'][i_pie].append(tmp_w)\n",
    "    \n",
    "    dashboard['button'] = widgets.Button(description=\"Submit\",dashboard=dashboard)\n",
    "    dashboard['button'].on_click(submit_guesses)\n",
    "    \n",
    "    dashboard['ui_pies'] = HBox(dashboard['fig_boxes'])\n",
    "    dashboard['ui_bars'] = HBox(dashboard['bar_boxes'])    \n",
    "    dashboard['ui_widgets'] = [HBox([VBox([w for w in g])],**hbox_tmpl) for g in dashboard['widgets']]\n",
    "    dashboard['ui_guess'] = HBox([u for u in dashboard['ui_widgets']])\n",
    "                                 \n",
    "    dashboard['ui'] = VBox([dashboard['ui_pies'],dashboard['ui_guess'], dashboard['button']])    \n",
    "\n",
    "    return dashboard"
   ]
  },
  {
   "cell_type": "markdown",
   "metadata": {},
   "source": [
    "## Exercise\n",
    "\n",
    "Almost there:\n",
    "\n",
    "- The next cell will display *FOUR* pie charts with *FIVE* segments each\n",
    "- In the boxes below each one, enter your estimate for what percentage share each one represents\n",
    "- When ready press the **Submit button** to see how the _actual_ values compare with your _estimates_"
   ]
  },
  {
   "cell_type": "code",
   "execution_count": null,
   "metadata": {
    "collapsed": false
   },
   "outputs": [],
   "source": [
    "dash1 = mk_pie_test_dashboard('data/multi_pie_data1.json')\n",
    "dash1['ui']"
   ]
  },
  {
   "cell_type": "markdown",
   "metadata": {},
   "source": [
    "Let's try some new data and the same test."
   ]
  },
  {
   "cell_type": "code",
   "execution_count": null,
   "metadata": {
    "collapsed": true
   },
   "outputs": [],
   "source": [
    "dash2 = mk_pie_test_dashboard('data/multi_pie_data2.json')\n",
    "dash2['ui']"
   ]
  },
  {
   "cell_type": "markdown",
   "metadata": {},
   "source": [
    "## Some explanation\n",
    "\n",
    "Load some more data..."
   ]
  },
  {
   "cell_type": "code",
   "execution_count": null,
   "metadata": {
    "collapsed": false
   },
   "outputs": [],
   "source": [
    "with open('data/eg_pies.json', 'r') as fp:\n",
    "    eg_pies = json.load(fp)"
   ]
  },
  {
   "cell_type": "code",
   "execution_count": null,
   "metadata": {
    "collapsed": false
   },
   "outputs": [],
   "source": [
    "with open('data/eg_bars.json', 'r') as fp:\n",
    "    eg_bars = json.load(fp)"
   ]
  },
  {
   "cell_type": "markdown",
   "metadata": {
    "collapsed": true
   },
   "source": [
    "This shows five equal sized pie segments. **Do they look equal?**"
   ]
  },
  {
   "cell_type": "code",
   "execution_count": null,
   "metadata": {
    "collapsed": false
   },
   "outputs": [],
   "source": [
    "mk_eg_pie(eg_pies[0])"
   ]
  },
  {
   "cell_type": "markdown",
   "metadata": {},
   "source": [
    "And as observed in the test, **can you confidently select the largest segment out of these? Or put them in order?**"
   ]
  },
  {
   "cell_type": "code",
   "execution_count": null,
   "metadata": {
    "collapsed": false
   },
   "outputs": [],
   "source": [
    "mk_eg_pie(eg_pies[1])"
   ]
  },
  {
   "cell_type": "markdown",
   "metadata": {},
   "source": [
    "**Is it a little easier with a bar chart?**"
   ]
  },
  {
   "cell_type": "code",
   "execution_count": null,
   "metadata": {
    "collapsed": false
   },
   "outputs": [],
   "source": [
    "HBox([mk_eg_pie(eg_pies[1]),VBox([mk_eg_bar(eg_bars[1])])])"
   ]
  },
  {
   "cell_type": "markdown",
   "metadata": {},
   "source": [
    "The test included pies where the segments had been rotated but the values remained the same. **Did the segments look the same size when in different positions and orientations?**"
   ]
  },
  {
   "cell_type": "code",
   "execution_count": null,
   "metadata": {
    "collapsed": false
   },
   "outputs": [],
   "source": [
    "#HBox([mk_eg_pie(eg_pies[2]), mk_eg_pie(eg_pies[3])])\n",
    "HBox([VBox([mk_eg_pie(eg_pies[2])]),VBox([mk_eg_pie(eg_pies[3])])])"
   ]
  },
  {
   "cell_type": "markdown",
   "metadata": {},
   "source": [
    "**Did the colour have any effect on perception of proportion? **\n",
    "\n",
    "If this was a poll on political candidates, is B doing better than C or D?\n",
    "\n",
    "Pie charts are commonly used to show share of votes and unless there is an obvious \"lead\" for someone, the data shown is effectively useless. **Which is why the raw numbers typically appear next to the pie chart - so why bother?**\n",
    "\n",
    "> You can't compare angles and slice areas to each other. Human perception and cognition is poor when viewing angles and areas and trying to make a mental comparison. Pie charts overload the working memory, forcing the person to make complicated calculations, and at the same time make a decision based on those comparisons.\n",
    "\n",
    "> What's the point of showing a pie chart when you want to compare data, except to say, \"well, the slices are almost the same, but I'm not really sure which one is bigger, or by how much, or what order they are from largest to smallest. But the colors sure are pretty. Plus, I like round things. Oh, was I suppose to make some important business decision? Sorry.\"\n",
    "\n",
    "> &mdash; <a href=\"https://blogs.oracle.com/experience/entry/pie_charts_just_dont_work_when_comparing_data_-_number_10_of_top_10_reasons_to_never_ever_use_a_pie\">[Oracle Blogs]</a>"
   ]
  },
  {
   "cell_type": "code",
   "execution_count": null,
   "metadata": {
    "collapsed": true
   },
   "outputs": [],
   "source": [
    "HBox([VBox([mk_eg_pie(eg_pies[4])]),VBox([mk_eg_pie(eg_pies[5])])])"
   ]
  },
  {
   "cell_type": "markdown",
   "metadata": {},
   "source": [
    "A lot of these examples have shown the drawbacks of pie charts while only using five segments. The problem is much worse as the\n",
    "number of categories is increased. **Making comparisons between every combination of slices is a little taxing.**\n",
    "\n",
    "With 11 categories, other problems have cropped up too:\n",
    "\n",
    "1. The default set of 10 colours has started to be re-used (see A and Q).\n",
    "2. The labelling is cluttered and overlapping."
   ]
  },
  {
   "cell_type": "code",
   "execution_count": null,
   "metadata": {
    "collapsed": false
   },
   "outputs": [],
   "source": [
    "mk_eg_pie(eg_pies[6])"
   ]
  },
  {
   "cell_type": "markdown",
   "metadata": {},
   "source": [
    "Without numbers just exactly how many people have X?"
   ]
  },
  {
   "cell_type": "code",
   "execution_count": null,
   "metadata": {
    "collapsed": false
   },
   "outputs": [],
   "source": [
    "b7 = mk_eg_pie(eg_pies[7])\n",
    "f7 = b7.children[0]\n",
    "p7 = f7.marks[0]\n",
    "p7.radius = 160\n",
    "f7.title = \"Latest studies showing how many people have X\"\n",
    "f7.display_legend = True\n",
    "display(b7)"
   ]
  },
  {
   "cell_type": "markdown",
   "metadata": {},
   "source": [
    "Alternatively you could simply write: **21% of people have X**"
   ]
  },
  {
   "cell_type": "markdown",
   "metadata": {},
   "source": [
    "## Representation of Data - Changing Data\n",
    "\n",
    "With the pie chart examples, the proportional data shown is a percentage share of the absolute data values. When comparing pie charts side-by-side, both are showing a total of 100% of *something* but is the absolute data the same for each one or does it change too? If that absolute total changes, what does the size of the share now show over time?"
   ]
  },
  {
   "cell_type": "markdown",
   "metadata": {},
   "source": [
    "### Use pandas to load CSV as a dataframe"
   ]
  },
  {
   "cell_type": "code",
   "execution_count": null,
   "metadata": {
    "collapsed": false
   },
   "outputs": [],
   "source": [
    "df = pd.read_csv('data/kramerica_industries.csv', index_col=0)\n",
    "df"
   ]
  },
  {
   "cell_type": "markdown",
   "metadata": {},
   "source": [
    "### Some Pandas access code for reference/interest"
   ]
  },
  {
   "cell_type": "code",
   "execution_count": null,
   "metadata": {
    "collapsed": false
   },
   "outputs": [],
   "source": [
    "# get the column names for labels\n",
    "df.dtypes.index"
   ]
  },
  {
   "cell_type": "code",
   "execution_count": null,
   "metadata": {
    "collapsed": false
   },
   "outputs": [],
   "source": [
    "# get a row from dataframe\n",
    "df.loc[1996].values"
   ]
  },
  {
   "cell_type": "code",
   "execution_count": null,
   "metadata": {
    "collapsed": false
   },
   "outputs": [],
   "source": [
    "# get row keys\n",
    "df.index"
   ]
  },
  {
   "cell_type": "markdown",
   "metadata": {},
   "source": [
    "### Let's plot some sales figures"
   ]
  },
  {
   "cell_type": "code",
   "execution_count": null,
   "metadata": {
    "collapsed": true
   },
   "outputs": [],
   "source": [
    "# Some supporting data\n",
    "labels = df.dtypes.index\n",
    "colors = ['gold', 'yellowgreen', 'lightcoral', 'lightskyblue', 'pink', 'lightgrey']"
   ]
  },
  {
   "cell_type": "code",
   "execution_count": null,
   "metadata": {
    "collapsed": false
   },
   "outputs": [],
   "source": [
    "# Create two plots with a pie each for 1996 and 1997 data rows\n",
    "\n",
    "kfig, kax = plt.subplots(1, 2, figsize=(14,6))\n",
    "kax[0].pie(df.loc[1996].values, labels=labels, colors=colors, autopct='%1.1f%%', shadow=True, startangle=140);\n",
    "kax[1].pie(df.loc[1997].values, labels=labels, colors=colors, autopct='%1.1f%%', shadow=True, startangle=140);\n",
    "kfig.suptitle('Kramerica Industries - Sales by Sector - 1996 to 1997', fontsize=14, fontweight='bold');"
   ]
  },
  {
   "cell_type": "markdown",
   "metadata": {},
   "source": [
    "This representation could be misleading. From a quick glance, the 1997 pie chart on the right makes it look as if a) the \"Oil Bladders\" sector of Kramerica Industries has grown (from 9.0% to 16.8%), along with other changes, and b) contributes more to the overall sales figures.\n",
    "\n",
    "However, as the pie chart is showing percentage share, there is no indication of what the absolute data values are."
   ]
  },
  {
   "cell_type": "code",
   "execution_count": null,
   "metadata": {
    "collapsed": false
   },
   "outputs": [],
   "source": [
    "# create two plots with a bar chart each for 1996 and 1997 data rows\n",
    "\n",
    "kfig, kax = plt.subplots(1,2, figsize=(14,6))\n",
    "index = np.arange(6)\n",
    "bar_width = 0.8\n",
    "x_offset = 0.1\n",
    "\n",
    "# two bar charts of \"sector\" v \"sales\"\n",
    "kax[0].bar(index+x_offset, df.loc[1996].values, bar_width, color=colors)\n",
    "kax[1].bar(index+x_offset, df.loc[1997].values, bar_width, color=colors)\n",
    "\n",
    "# set x ticks and labels - we'll go for funky sloped labels this time\n",
    "kax[0].set_xticks(index+x_offset)\n",
    "xtickNames0 = kax[0].set_xticklabels(labels)\n",
    "plt.setp(xtickNames0, rotation=30, fontsize=10)\n",
    "kax[1].set_xticks(index+x_offset)\n",
    "xtickNames1 = kax[1].set_xticklabels(labels)\n",
    "plt.setp(xtickNames1, rotation=45, fontsize=10)\n",
    "\n",
    "# set labels, plot titles and limits (to fix size in both - should be calculated!)\n",
    "kax[0].set_ylabel('$ Millions')\n",
    "kax[0].set_title('1996 Sales')\n",
    "kax[0].set_ylim([0,250])\n",
    "\n",
    "kax[1].set_ylabel('$ Millions')\n",
    "kax[1].set_title('1997 Sales')\n",
    "kax[1].set_ylim([0,250]);\n",
    "\n",
    "# add overall title and render\n",
    "kfig.suptitle('Kramerica Industries - Sales by Sector - 1996 to 1997', fontsize=14, fontweight='bold');"
   ]
  },
  {
   "cell_type": "markdown",
   "metadata": {},
   "source": [
    "With bar charts instead, even side-by-side comparison of the absolute sales figures per sector. shows it can easily be seen that absolute sales figures have dropped in all sectors. Furthermore per chart you can a) determine the leading sector and b) with some trivial effort determine the order of all sectors.\n",
    "\n",
    "**Illusory images:** Are you drawing lines between the two charts in your mind, to show the trend?"
   ]
  },
  {
   "cell_type": "markdown",
   "metadata": {},
   "source": [
    "### More Data\n",
    "\n",
    "So how well do bar charts handle a larger series of data? This time we show eight charts, showing sales figures from 1994 - 2001."
   ]
  },
  {
   "cell_type": "code",
   "execution_count": null,
   "metadata": {
    "collapsed": false
   },
   "outputs": [],
   "source": [
    "# plot 8 bar charts in 2 rows of 4 to show whole dataset\n",
    "\n",
    "kfig2, kax2 = plt.subplots(2, 4, figsize=(14,6))\n",
    "index = np.arange(6)\n",
    "bar_width = 0.8\n",
    "x_offset = 0.1\n",
    "\n",
    "# plot each bar chart; limit y labels to left-hand charts only and x labels to bottom row only\n",
    "for ind,year in enumerate(df.index):\n",
    "    i = int(ind / 4)\n",
    "    j = int(ind % 4)\n",
    "    kax2[i][j].bar(index+x_offset, df.loc[year].values, bar_width, color=colors)\n",
    "    kax2[i][j].set_xticks(index+0.5)\n",
    "    kax2[i][j].set_title('%d Sales' % year)\n",
    "    kax2[i][j].set_ylim([0,250])\n",
    "    if j==0:\n",
    "        kax2[i][j].set_ylabel('$ Millions')\n",
    "    if i==1:\n",
    "        xtickNames = kax2[i][j].set_xticklabels(labels)\n",
    "        plt.setp(xtickNames, rotation=90, fontsize=10) # vertical labels to tidy-up\n",
    "    else:\n",
    "        xtickNames = kax2[i][j].set_xticklabels([])\n",
    "\n",
    "# add overall title and render\n",
    "kfig2.suptitle('Kramerica Industries - Sales by Sector - 1994 to 2001', fontsize=14, fontweight='bold');"
   ]
  },
  {
   "cell_type": "markdown",
   "metadata": {},
   "source": [
    "While it's still possible to see the overall trend, it's getting harder to track any trends and do comparisons. In particular a) any illusory lines drawn across the charts, breaks down with the introduction of a second row, b) more data means more charts and rows, leaving the whole thing unmanageable, c) the small sales figures are harder to track and d) especially when the net change is small too."
   ]
  },
  {
   "cell_type": "markdown",
   "metadata": {},
   "source": [
    "### The line chart\n",
    "\n",
    "For all your trending needs."
   ]
  },
  {
   "cell_type": "code",
   "execution_count": null,
   "metadata": {
    "collapsed": false
   },
   "outputs": [],
   "source": [
    "# plot one line chart to show all sectors over whole dataset\n",
    "\n",
    "kfig3, kax3 = plt.subplots(1, 1, figsize=(14,6))\n",
    "\n",
    "# plot a line for each sector (column)\n",
    "for i, col in enumerate(df):\n",
    "    kax3.plot(df.index.values, df[col].values, 'o-', color=colors[i], label=col, linewidth=2)\n",
    "    \n",
    "kax3.set_xticklabels(df.index.values)\n",
    "kax3.set_ylabel('$ Millions')\n",
    "kax3.set_ylim([0,250])\n",
    "\n",
    "# really need a legend this time\n",
    "kax3.legend()\n",
    "\n",
    "# add overall title and render\n",
    "kfig3.suptitle('Kramerica Industries - Sales by Sector - 1994 to 2001', fontsize=14, fontweight='bold');"
   ]
  },
  {
   "cell_type": "markdown",
   "metadata": {},
   "source": [
    "With the line chart, we can now easily see the overall trend of every sector of Kramerica Industries. Subtle changes are more readily observed. While we can no longer determine each sector's share *as a percentage* we can still at least see the leading sector and the order of the rest."
   ]
  },
  {
   "cell_type": "markdown",
   "metadata": {},
   "source": [
    "However, some of the values overlap (pink/yellow lines for 1998-1999), which could lead to confusion. This would become worse as more and more sectors (categories) are added. Lots of lines might be difficult to follow - we will also run out of distinguishable colours."
   ]
  },
  {
   "cell_type": "markdown",
   "metadata": {},
   "source": [
    "<div style=\"background-color: #eef5f5; border-left: 2px solid black; border-right: 2px solid black; padding: 10px\">\n",
    "<h3 style=\"font-variant: small-caps;\">For a few lines more</h3>\n",
    "![For a few lines more](images/lots_of_lines.png)\n",
    "<a href=\"http://stats.stackexchange.com/questions/46334/line-graph-has-too-many-lines-is-there-a-better-solution\"><small>[Source]</small></a></div>"
   ]
  },
  {
   "cell_type": "markdown",
   "metadata": {},
   "source": [
    "## Further Reading\n",
    "\n",
    "> http://www.businessinsider.com/pie-charts-are-the-worst-2013-6?IR=T\n",
    "\n",
    "> http://junkcharts.typepad.com/junk_charts/"
   ]
  }
 ],
 "metadata": {
  "anaconda-cloud": {},
  "kernelspec": {
   "display_name": "Python [conda root]",
   "language": "python",
   "name": "conda-root-py"
  },
  "language_info": {
   "codemirror_mode": {
    "name": "ipython",
    "version": 3
   },
   "file_extension": ".py",
   "mimetype": "text/x-python",
   "name": "python",
   "nbconvert_exporter": "python",
   "pygments_lexer": "ipython3",
   "version": "3.5.2"
  }
 },
 "nbformat": 4,
 "nbformat_minor": 1
}
