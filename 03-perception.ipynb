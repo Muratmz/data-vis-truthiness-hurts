{
 "cells": [
  {
   "cell_type": "markdown",
   "metadata": {},
   "source": [
    "<div style=\"border-bottom: 2px solid #aaaaaa; border-right: 2px solid #aaaaaa; box-shadow: 5px 5px 3px #eeeeee;\">\n",
    "<h1>03 &#9658; Perception</h1>\n",
    "</div>"
   ]
  },
  {
   "cell_type": "markdown",
   "metadata": {},
   "source": [
    "## The Human Visual System and Perception\n",
    "\n",
    "We've looked at how quantitative and categorical data can be mapped to various primitives and channels for understanding. As noted, some of those channels are better than others. The visualization display and our viewing of it is yet another mapping stage, where the representation is mapped through perception to become understanding.\n",
    "\n",
    "### Colour Perception\n",
    "\n",
    "Prevalent throughout visualization, colour is frequently used to represent data. This notebook will take a look at some of the perception issues that arise from our ability to see hue, saturation and intensity through the medium of colour."
   ]
  },
  {
   "cell_type": "code",
   "execution_count": null,
   "metadata": {
    "collapsed": true
   },
   "outputs": [],
   "source": [
    "%matplotlib inline\n",
    "from __future__ import print_function\n",
    "import json\n",
    "import numpy as np\n",
    "import matplotlib.pyplot as plt\n",
    "import matplotlib.patches as patches\n",
    "import matplotlib.lines as lines\n",
    "from ipywidgets import *\n",
    "from IPython.display import display\n",
    "from IPython.display import IFrame"
   ]
  },
  {
   "cell_type": "markdown",
   "metadata": {},
   "source": [
    "### Mapping quantitative data to a colour map\n",
    "\n",
    "Using some generated 2D image data array which creates a single variable (z), approximately in the range [-10,10], we can map data values in that range to a range of colours. A very common colourmap found in many visualization systems is the \"Rainbow\" or \"Jet\" colourmap."
   ]
  },
  {
   "cell_type": "code",
   "execution_count": null,
   "metadata": {
    "collapsed": false
   },
   "outputs": [],
   "source": [
    "x = np.linspace(0, 6)\n",
    "y = np.linspace(0, 3)[:, np.newaxis]\n",
    "z = 10 * np.cos(x ** 2) * np.exp(-y)"
   ]
  },
  {
   "cell_type": "code",
   "execution_count": null,
   "metadata": {
    "collapsed": false
   },
   "outputs": [],
   "source": [
    "fig,ax = plt.subplots(1,figsize=(8,8))\n",
    "ax_im = ax.imshow(z, cmap='jet')\n",
    "plt.colorbar(ax_im);"
   ]
  },
  {
   "cell_type": "markdown",
   "metadata": {},
   "source": [
    "At first glance it might seem reasonable: -10 maps to blue, +10 maps to dark red, with green for zero at the mid-point. We can use the colourmap legend to look-up values/colours.\n",
    "\n",
    "The purpose of the colour mapping is to quickly show us where interesting numbers lie in the data - a process which is much quicker than browsing the data table, especially when it consists of 50x50 elements (still relatively small).\n",
    "\n",
    "However, the jet/rainbow colourmap introduces some artifacts that might make parts of the data look more interesting than they actually are. Such as:"
   ]
  },
  {
   "cell_type": "code",
   "execution_count": null,
   "metadata": {
    "collapsed": false
   },
   "outputs": [],
   "source": [
    "fig,ax = plt.subplots(1,figsize=(8,8))\n",
    "ax_im = ax.imshow(z, cmap='jet')\n",
    "plt.colorbar(ax_im)\n",
    "roi_rect = patches.Rectangle((18,16),5,5,linewidth=1,edgecolor='k',facecolor='none')\n",
    "ax.add_patch(roi_rect);"
   ]
  },
  {
   "cell_type": "markdown",
   "metadata": {},
   "source": [
    "The \"yellow\" is bright and sharp and indicates this and other regions of interest might be some \"feature\" we're looking for.\n",
    "\n",
    "**Is this correct?**\n",
    "\n",
    "The luminance profile of this colourmap is not even.\n",
    "\n",
    "The human eye has varying sensitivity to light depending on its colour. The luminance that we see comes from the RGB values comprising each colour in the scale but it's not simply the sum or simple average of the RGB values. The `grayify_cmap` function below uses a weighted Euclidean sum of the individual values to calculate how we see the luminance."
   ]
  },
  {
   "cell_type": "code",
   "execution_count": null,
   "metadata": {
    "collapsed": true
   },
   "outputs": [],
   "source": [
    "def grayify_cmap(cmap):\n",
    "    \"\"\"Return a grayscale version of the colormap\"\"\"\n",
    "    cmap = plt.cm.get_cmap(cmap)\n",
    "    colors = cmap(np.arange(cmap.N))\n",
    "    \n",
    "    # convert RGBA to perceived greyscale luminance\n",
    "    # cf. http://alienryderflex.com/hsp.html\n",
    "    RGB_weight = [0.299, 0.587, 0.114]\n",
    "    luminance = np.sqrt(np.dot(colors[:, :3] ** 2, RGB_weight))\n",
    "    colors[:, :3] = luminance[:, np.newaxis]\n",
    "    \n",
    "    return cmap.from_list(cmap.name + \"_grayscale\", colors, cmap.N)"
   ]
  },
  {
   "cell_type": "markdown",
   "metadata": {},
   "source": [
    "Using the grayified version of the jet cmap we can see the luminance more clearly. Similarly the peaks are now quite visible in the colourbar legend."
   ]
  },
  {
   "cell_type": "code",
   "execution_count": null,
   "metadata": {
    "collapsed": false
   },
   "outputs": [],
   "source": [
    "plt.figure(figsize=(8,8))\n",
    "plt.imshow(z, cmap=grayify_cmap('jet'))\n",
    "plt.colorbar();"
   ]
  },
  {
   "cell_type": "markdown",
   "metadata": {},
   "source": [
    "Now we show the two versions of the colourmap next to each other. You can see peaks in intensity in both the colour and grayified versions. **Note:** `cmap` objects typically consist of 256 lookup values as shown in the x-axis labelling."
   ]
  },
  {
   "cell_type": "code",
   "execution_count": null,
   "metadata": {
    "collapsed": false
   },
   "outputs": [],
   "source": [
    "def show_colormap(cmap):\n",
    "    im = np.outer(np.ones(25), np.arange(256))\n",
    "    fig, ax = plt.subplots(2, figsize=(6, 2), subplot_kw=dict(yticks=[]))\n",
    "    fig.subplots_adjust(hspace=0.1)\n",
    "    ax[0].imshow(im, cmap=cmap)\n",
    "    ax[1].set_xlim([0,255])\n",
    "    ax[0].set_xticks([0,127,255])\n",
    "    ax[1].imshow(im, cmap=grayify_cmap(cmap))\n",
    "    ax[1].set_xlim([0,255])\n",
    "    ax[1].set_xticks([0,127,255])\n",
    "    return fig, ax\n",
    "    \n",
    "show_colormap('jet');"
   ]
  },
  {
   "cell_type": "markdown",
   "metadata": {},
   "source": [
    "These two functions allow us to look at the intensity profiles of the grayified cmap and alongside the individual RGB intensities for reference."
   ]
  },
  {
   "cell_type": "code",
   "execution_count": null,
   "metadata": {
    "collapsed": true
   },
   "outputs": [],
   "source": [
    "def plot_cmap_intensity(cmap):\n",
    "    gmap = grayify_cmap(cmap)\n",
    "    g_intensity = [gmap(i)[0] for i in range(gmap.N)]\n",
    "    g_fig,g_ax = plt.subplots(1, figsize=(6,4))\n",
    "    g_ax.plot(g_intensity, color='k')\n",
    "    g_ax.yaxis.tick_right() # these two lines ensure show_colormap and this plot line up\n",
    "    g_ax.yaxis.set_label_position(\"right\")\n",
    "    g_ax.set_ylabel('Intensity')\n",
    "    g_ax.set_xlabel('Lookup')\n",
    "    g_ax.set_xlim([0,255])\n",
    "    g_ax.set_ylim([0,1])\n",
    "    g_ax.set_xticks([0,127,255])\n",
    "    return g_fig, g_ax"
   ]
  },
  {
   "cell_type": "code",
   "execution_count": null,
   "metadata": {
    "collapsed": true
   },
   "outputs": [],
   "source": [
    "def plot_cmap_rgb_intensity(cmap_name):\n",
    "    cmap = plt.cm.get_cmap(cmap_name)\n",
    "    red = [cmap(i)[0] for i in range(cmap.N)]\n",
    "    green = [cmap(i)[1] for i in range(cmap.N)]\n",
    "    blue = [cmap(i)[2] for i in range(cmap.N)]\n",
    "    gmap = grayify_cmap(cmap_name)\n",
    "    g_intensity = [gmap(i)[0] for i in range(gmap.N)]\n",
    "    g_fig,g_ax = plt.subplots(1, figsize=(6,4))\n",
    "    g_ax.plot(red, color='red')\n",
    "    g_ax.plot(green, color='green')\n",
    "    g_ax.plot(blue, color='blue')\n",
    "    g_ax.plot(g_intensity, color='k')\n",
    "    g_ax.yaxis.tick_right() # these two lines ensure show_colormap and this plot line up\n",
    "    g_ax.yaxis.set_label_position(\"right\")\n",
    "    g_ax.set_ylabel('Intensity')\n",
    "    g_ax.set_xlabel('Lookup')\n",
    "    g_ax.set_xlim([0,255])\n",
    "    g_ax.set_ylim([-0.05,1.05])\n",
    "    g_ax.set_xticks([0,127,255])\n",
    "    return g_fig, g_ax"
   ]
  },
  {
   "cell_type": "markdown",
   "metadata": {},
   "source": [
    "Let's look at both the original \"jet\" and grayified colourmaps with the intensity profile plot"
   ]
  },
  {
   "cell_type": "code",
   "execution_count": null,
   "metadata": {
    "collapsed": false
   },
   "outputs": [],
   "source": [
    "show_colormap('jet')\n",
    "plot_cmap_intensity('jet');"
   ]
  },
  {
   "cell_type": "markdown",
   "metadata": {},
   "source": [
    "This shows there are TWO significant peaks in intensity which might mislead reading of the data. Clearly some values of data map to the same intensity (though not the same hue and saturation).\n",
    "\n",
    "Drilling down we can see the individual RGB profiles."
   ]
  },
  {
   "cell_type": "code",
   "execution_count": null,
   "metadata": {
    "collapsed": false
   },
   "outputs": [],
   "source": [
    "plot_cmap_rgb_intensity('jet');"
   ]
  },
  {
   "cell_type": "markdown",
   "metadata": {},
   "source": [
    "### Better choice of colourmaps\n",
    "\n",
    "This time we use the \"gray\" colourmap. This is a nice clean luminance profile and all those \"features\" from earlier have vanished."
   ]
  },
  {
   "cell_type": "code",
   "execution_count": null,
   "metadata": {
    "collapsed": false
   },
   "outputs": [],
   "source": [
    "plt.figure(figsize=(8,8))\n",
    "plt.imshow(z, cmap=grayify_cmap('gray'))\n",
    "plt.colorbar();"
   ]
  },
  {
   "cell_type": "markdown",
   "metadata": {},
   "source": [
    "As this is a already a linear greyscale, the `cmap_grayify` function has no effect, and the intensity profile is as expected."
   ]
  },
  {
   "cell_type": "code",
   "execution_count": null,
   "metadata": {
    "collapsed": false
   },
   "outputs": [],
   "source": [
    "show_colormap('gray')\n",
    "plot_cmap_intensity('gray');"
   ]
  },
  {
   "cell_type": "markdown",
   "metadata": {},
   "source": [
    "Now for another colourmap: this time it's the **Cubehelix** one which provides a somewhat muted but improved jet/rainbow cmap has it has a better luminance profile."
   ]
  },
  {
   "cell_type": "code",
   "execution_count": null,
   "metadata": {
    "collapsed": false
   },
   "outputs": [],
   "source": [
    "plt.figure(figsize=(8,8))\n",
    "plt.imshow(z, cmap='cubehelix')\n",
    "plt.colorbar();"
   ]
  },
  {
   "cell_type": "code",
   "execution_count": null,
   "metadata": {
    "collapsed": false
   },
   "outputs": [],
   "source": [
    "plt.figure(figsize=(8,8))\n",
    "plt.imshow(z, cmap=grayify_cmap('cubehelix'))\n",
    "plt.colorbar();"
   ]
  },
  {
   "cell_type": "markdown",
   "metadata": {},
   "source": [
    "Comparison and profile this time shows that it's not perfectly linear but at least there are no multiple peaks."
   ]
  },
  {
   "cell_type": "code",
   "execution_count": null,
   "metadata": {
    "collapsed": false
   },
   "outputs": [],
   "source": [
    "show_colormap('cubehelix')\n",
    "plot_cmap_intensity('cubehelix')\n",
    "plot_cmap_rgb_intensity('cubehelix');"
   ]
  },
  {
   "cell_type": "markdown",
   "metadata": {},
   "source": [
    "### Exercise\n",
    "\n",
    "Take a look at some of the other available colourmaps. This code lists them (but excludes those ending with \"\\_r\" which simply indicates the cmap is in reverse order. "
   ]
  },
  {
   "cell_type": "code",
   "execution_count": null,
   "metadata": {
    "collapsed": false
   },
   "outputs": [],
   "source": [
    "# [m for m in plt.cm.datad]\n",
    "print([m for m in plt.cm.datad if not m.endswith(\"_r\")])"
   ]
  },
  {
   "cell_type": "code",
   "execution_count": null,
   "metadata": {
    "collapsed": false
   },
   "outputs": [],
   "source": [
    "sel_cmap = 'gist_ncar'\n",
    "\n",
    "cmaps = [plt.cm.get_cmap(sel_cmap), grayify_cmap(sel_cmap), plt.cm.gray]\n",
    "fig, axes = plt.subplots(1, 3, figsize=(15, 5))\n",
    "fig.subplots_adjust(wspace=0.1)\n",
    "\n",
    "for cmap, ax in zip(cmaps, axes):\n",
    "    im = ax.imshow(z, cmap=cmap)\n",
    "    ax.set_title(cmap.name)\n",
    "    fig.colorbar(im, ax=ax)\n",
    "\n",
    "show_colormap(sel_cmap)\n",
    "plot_cmap_rgb_intensity(sel_cmap);"
   ]
  },
  {
   "cell_type": "markdown",
   "metadata": {},
   "source": [
    "## Pitfalls of Perception\n",
    "\n",
    "Unfortunately getting the colour and intensity mapping \"correct\", is not quite enough when it comes to human perception. To be as powerful as it is, our visual cortex has a number of tricks up its sleeves to help us understand the world around us."
   ]
  },
  {
   "cell_type": "markdown",
   "metadata": {},
   "source": [
    "### Research Software Engineers who stare at dots\n",
    "\n",
    "Take a look at the fuzzy image below, focus on the dot, and stare at the screen for around 30 seconds."
   ]
  },
  {
   "cell_type": "code",
   "execution_count": null,
   "metadata": {
    "collapsed": false
   },
   "outputs": [],
   "source": [
    "x = np.linspace(0, np.pi)\n",
    "y = np.linspace(0, np.pi)[:, np.newaxis]\n",
    "z = np.sin(x) * np.sin(y) * 0.3\n",
    "\n",
    "fig,ax = plt.subplots(1,figsize=(8,8))\n",
    "ax.plot(25,25,\"ko\")\n",
    "ax.axis('off')\n",
    "ax_im = ax.imshow(z, cmap='Greys',vmin=0.0,vmax=1);"
   ]
  },
  {
   "cell_type": "markdown",
   "metadata": {},
   "source": [
    "The visual system requires change to maintain an image. In the above image, the gradual changes in the image and absence of detail do not stimulate vision, so over time the image fades away, leaving just the dot.\n",
    "\n",
    "Try again with this next image which includes a dashed circle around the object."
   ]
  },
  {
   "cell_type": "code",
   "execution_count": null,
   "metadata": {
    "collapsed": false
   },
   "outputs": [],
   "source": [
    "x = np.linspace(0, np.pi)\n",
    "y = np.linspace(0, np.pi)[:, np.newaxis]\n",
    "z = np.sin(x) * np.sin(y) * 0.3\n",
    "\n",
    "fig,ax = plt.subplots(1,figsize=(8,8))\n",
    "ax.plot(25,25,\"ko\")\n",
    "ax.axis('off')\n",
    "circle = patches.Circle((25,25),20,linewidth=5, linestyle=\"dashed\", edgecolor='#777777',fill=None)\n",
    "ax.add_patch(circle)\n",
    "ax_im = ax.imshow(z, cmap='Greys',vmin=0.0,vmax=1);"
   ]
  },
  {
   "cell_type": "markdown",
   "metadata": {},
   "source": [
    "This time the blurry grey circle should not disappear, or at least not as quickly or to the same extent.\n",
    "\n",
    "Greater detail helps persistence and it's the presence of the circle and the fact that there are always small regular uncontrollable eye movements, that results in constantly triggered stimulation."
   ]
  },
  {
   "cell_type": "markdown",
   "metadata": {},
   "source": [
    "### Shadow Play\n",
    "\n",
    "Our world is 3D. This is a well known illusion but particularly effective.\n",
    "\n",
    "Take a look at the chessboard image below. There are two squares marked A and B. **Which one is the darkest?**"
   ]
  },
  {
   "cell_type": "markdown",
   "metadata": {},
   "source": [
    "![Checkerboard](images/chess1.jpg)"
   ]
  },
  {
   "cell_type": "markdown",
   "metadata": {},
   "source": [
    "To most people this seems like an \"obvious\" choice - \"A\" is darker, after all it's one of the darker checks on the board.\n",
    "\n",
    "As you have probably anticipated, this is not the case:"
   ]
  },
  {
   "cell_type": "markdown",
   "metadata": {},
   "source": [
    "![Checkboard with connecting strips](images/chess2.jpg)\n",
    "\n",
    "<a href=\"http://web.mit.edu/persci/people/adelson/checkershadow_illusion.html\">[MIT]</a>"
   ]
  },
  {
   "cell_type": "markdown",
   "metadata": {},
   "source": [
    "With the connecting strips in place, the illusion is broken and it can be seen that the two squares are actually the same shade of grey/intensity. If not convinced, try the eye-dropper tool in Photoshop!\n",
    "\n",
    "The visual system is trying to determine where the shadows are, to make sense of the 3D scene. Local contrast enhancement sees \"light\" squares as \"being lighter\", and \"dark\" squares as \"being darker\", so the shadow effects are operating against these classifications.\n",
    "\n",
    "As seen with the blurry disc images above, the visual system is not as well attuned to soft edges. The checkerboard image contains sharp-edges on for the squares but soft-edges for the shadows, so the latter aren't perceived as well. \n",
    "\n",
    "See the <a href=\"https://en.wikipedia.org/wiki/Checker_shadow_illusion\">[Wikipedia]</a> entry for additional versions showing a heavily cropped image, and another with a floating polygon that creates a flip-flop effect\"."
   ]
  },
  {
   "cell_type": "markdown",
   "metadata": {},
   "source": [
    "### Contrast Illusion\n",
    "\n",
    "With good colourmaps and appropriate mappings from data to intensity and hue, we can be fairly sure we can represent the data well and see what the underlying data values are.\n",
    "\n",
    "Except as we've just seen, the context can have a significant impact on our ability to see intensity. No matter how hard you try, it's not possible to see the two checkerboard squares as the same greyscale intensity, without changing the context.\n",
    "\n",
    "We can further show what happens when we show some data markers (circle glyphs) against a variety of contexts.\n",
    "\n",
    "** \\*\\* Disclaimer: the effectiveness of some these illusions is heavily dependent on the quality and colour gamut of the display device.**"
   ]
  },
  {
   "cell_type": "code",
   "execution_count": null,
   "metadata": {
    "collapsed": false
   },
   "outputs": [],
   "source": [
    "def mk_cmap_legend(cmap):\n",
    "    new_fig, new_ax = plt.subplots(1, figsize=(8, 1),subplot_kw=dict(xticks=[], yticks=[]))\n",
    "    new_ax.set_xlim([0,255])\n",
    "    new_ax.set_ylim([0,31])\n",
    "    if cmap is not None:\n",
    "        im = np.outer(np.ones(32), np.arange(256))\n",
    "        new_ax.imshow(im, cmap=cmap)\n",
    "    return new_fig, new_ax\n",
    "    \n",
    "def annotate_cmap_legend(ax,markers,labels=None):\n",
    "    for m in markers:\n",
    "        circle = patches.Circle((m['x'],15),8,linewidth=1,edgecolor=m['c'],facecolor=m['c'])\n",
    "        ax.add_patch(circle)\n",
    "    if labels:\n",
    "        for m, lb in zip(markers,labels):\n",
    "            if lb is not \"\":\n",
    "                triangle = patches.Polygon([(m['x'],-2),(m['x']-5,-8),(m['x']+5,-8)], True, color='grey')\n",
    "                ax.add_patch(triangle)\n",
    "                triangle.set_clip_on(False)\n",
    "                ax.text(m['x'], -10, lb, horizontalalignment='center', verticalalignment='top')"
   ]
  },
  {
   "cell_type": "markdown",
   "metadata": {},
   "source": [
    "Load test data from JSON file."
   ]
  },
  {
   "cell_type": "code",
   "execution_count": null,
   "metadata": {
    "collapsed": false
   },
   "outputs": [],
   "source": [
    "with open('data/eg_box.json', 'r') as fp:\n",
    "    eg_boxes = json.load(fp)"
   ]
  },
  {
   "cell_type": "markdown",
   "metadata": {},
   "source": [
    "Here's a control set of three black circles."
   ]
  },
  {
   "cell_type": "code",
   "execution_count": null,
   "metadata": {
    "collapsed": false
   },
   "outputs": [],
   "source": [
    "ci0_fig, ci0_ax = mk_cmap_legend(eg_boxes[0]['cmap'])\n",
    "annotate_cmap_legend(ci0_ax, eg_boxes[0]['markers'])"
   ]
  },
  {
   "cell_type": "markdown",
   "metadata": {},
   "source": [
    "Next, five circles in increasing intensity - with the Hex RGB values given below each one."
   ]
  },
  {
   "cell_type": "code",
   "execution_count": null,
   "metadata": {
    "collapsed": false
   },
   "outputs": [],
   "source": [
    "ci1_fig, ci1_ax = mk_cmap_legend(eg_boxes[1]['cmap'])\n",
    "annotate_cmap_legend(ci1_ax, eg_boxes[1]['markers'], eg_boxes[1]['labels'])"
   ]
  },
  {
   "cell_type": "markdown",
   "metadata": {},
   "source": [
    "With the next set, we can still compare and rank the changing intensities even when rearranged."
   ]
  },
  {
   "cell_type": "code",
   "execution_count": null,
   "metadata": {
    "collapsed": false
   },
   "outputs": [],
   "source": [
    "ci2_fig, ci2_ax = mk_cmap_legend(eg_boxes[2]['cmap'])\n",
    "annotate_cmap_legend(ci2_ax, eg_boxes[2]['markers'], eg_boxes[2]['labels'])"
   ]
  },
  {
   "cell_type": "markdown",
   "metadata": {},
   "source": [
    "What about if we change the background to the jet/rainbow colourmap? Are the intensities affected by the context - compare with the white background set to see?"
   ]
  },
  {
   "cell_type": "code",
   "execution_count": null,
   "metadata": {
    "collapsed": false
   },
   "outputs": [],
   "source": [
    "ci3_fig, ci3_ax = mk_cmap_legend(eg_boxes[3]['cmap'])\n",
    "annotate_cmap_legend(ci3_ax, eg_boxes[3]['markers'] )\n",
    "\n",
    "ci3a_fig, ci3a_ax = mk_cmap_legend(eg_boxes[1]['cmap'])\n",
    "annotate_cmap_legend(ci3a_ax, eg_boxes[1]['markers'], eg_boxes[1]['labels'])"
   ]
  },
  {
   "cell_type": "markdown",
   "metadata": {},
   "source": [
    "And the randomised set?"
   ]
  },
  {
   "cell_type": "code",
   "execution_count": null,
   "metadata": {
    "collapsed": false
   },
   "outputs": [],
   "source": [
    "ci4_fig, ci4_ax = mk_cmap_legend(eg_boxes[4]['cmap'])\n",
    "annotate_cmap_legend(ci4_ax, eg_boxes[4]['markers'])"
   ]
  },
  {
   "cell_type": "markdown",
   "metadata": {},
   "source": [
    "Does the presence of the ordered set help at all?"
   ]
  },
  {
   "cell_type": "code",
   "execution_count": null,
   "metadata": {
    "collapsed": false
   },
   "outputs": [],
   "source": [
    "ci5_fig, ci5_ax = mk_cmap_legend(eg_boxes[5]['cmap'])\n",
    "annotate_cmap_legend(ci5_ax, eg_boxes[5]['markers'])\n",
    "\n",
    "ci5a_fig, ci5a_ax = mk_cmap_legend(eg_boxes[1]['cmap'])\n",
    "annotate_cmap_legend(ci5a_ax, eg_boxes[1]['markers'], eg_boxes[1]['labels'])"
   ]
  },
  {
   "cell_type": "markdown",
   "metadata": {},
   "source": [
    "Too easy? How about the grey colourmaps as backgrounds in the next set:"
   ]
  },
  {
   "cell_type": "code",
   "execution_count": null,
   "metadata": {
    "collapsed": false
   },
   "outputs": [],
   "source": [
    "ci6_fig, ci6_ax = mk_cmap_legend(eg_boxes[6]['cmap'])\n",
    "annotate_cmap_legend(ci6_ax, eg_boxes[6]['markers'])\n",
    "\n",
    "ci7_fig, ci7_ax = mk_cmap_legend(eg_boxes[7]['cmap'])\n",
    "annotate_cmap_legend(ci7_ax, eg_boxes[7]['markers'], eg_boxes[7]['labels'])"
   ]
  },
  {
   "cell_type": "markdown",
   "metadata": {},
   "source": [
    "With these randomised glyphs, we're just spoiling you:"
   ]
  },
  {
   "cell_type": "code",
   "execution_count": null,
   "metadata": {
    "collapsed": false
   },
   "outputs": [],
   "source": [
    "ci8_fig, ci8_ax = mk_cmap_legend(eg_boxes[8]['cmap'])\n",
    "annotate_cmap_legend(ci8_ax, eg_boxes[8]['markers'])\n",
    "\n",
    "ci9_fig, ci9_ax = mk_cmap_legend(eg_boxes[9]['cmap'])\n",
    "annotate_cmap_legend(ci9_ax, eg_boxes[9]['markers'])"
   ]
  },
  {
   "cell_type": "markdown",
   "metadata": {},
   "source": [
    "### Test\n",
    "\n",
    "With the next two sets, can you spot the odd **one** out in each row?"
   ]
  },
  {
   "cell_type": "code",
   "execution_count": null,
   "metadata": {
    "collapsed": false
   },
   "outputs": [],
   "source": [
    "ci10_fig, ci10_ax = mk_cmap_legend(eg_boxes[10]['cmap'])\n",
    "annotate_cmap_legend(ci10_ax, eg_boxes[10]['markers'])\n",
    "\n",
    "ci11_fig, ci11_ax = mk_cmap_legend(eg_boxes[11]['cmap'])\n",
    "annotate_cmap_legend(ci11_ax, eg_boxes[11]['markers'])"
   ]
  },
  {
   "cell_type": "markdown",
   "metadata": {},
   "source": [
    "The results are in:"
   ]
  },
  {
   "cell_type": "code",
   "execution_count": null,
   "metadata": {
    "collapsed": false
   },
   "outputs": [],
   "source": [
    "ci10a_fig, ci10a_ax = mk_cmap_legend(eg_boxes[10]['cmap'])\n",
    "annotate_cmap_legend(ci10a_ax, eg_boxes[10]['markers'], eg_boxes[10]['labels'])\n",
    "\n",
    "ci11a_fig, ci11a_ax = mk_cmap_legend(eg_boxes[11]['cmap'])\n",
    "annotate_cmap_legend(ci11a_ax, eg_boxes[11]['markers'], eg_boxes[11]['labels'])"
   ]
  },
  {
   "cell_type": "markdown",
   "metadata": {},
   "source": [
    "### Kofka Ring Illusion"
   ]
  },
  {
   "cell_type": "markdown",
   "metadata": {},
   "source": [
    "In the first image, the grey ring appears to be a uniform shade of grey, even when placed on a contrasting background"
   ]
  },
  {
   "cell_type": "code",
   "execution_count": null,
   "metadata": {
    "collapsed": false
   },
   "outputs": [],
   "source": [
    "kofka_fig = plt.figure()\n",
    "kofka_ax = kofka_fig.add_subplot(111, aspect='equal')\n",
    "kofka_ax.add_patch(patches.Rectangle((0.0, 0.0), 0.5, 1, linewidth=1, edgecolor='#333333',facecolor='#333333'))\n",
    "kofka_ax.add_patch(patches.Rectangle((0.5, 0.0), 0.5, 1, linewidth=1, edgecolor='#bbbbbb',facecolor='#bbbbbb'))\n",
    "kofka_ax.add_patch(patches.Wedge((0.5,0.5), 0.3, 0, 360, width=0.2, linewidth=1, edgecolor='#777777',facecolor='#777777'));"
   ]
  },
  {
   "cell_type": "markdown",
   "metadata": {},
   "source": [
    "In the second image, the two halves have been separated. The two halves of the grey ring now appear to be different shades."
   ]
  },
  {
   "cell_type": "code",
   "execution_count": null,
   "metadata": {
    "collapsed": false
   },
   "outputs": [],
   "source": [
    "kofka_fig2 = plt.figure()\n",
    "kofka_ax2 = kofka_fig2.add_subplot(111, aspect='equal')\n",
    "kofka_ax2.add_patch(patches.Rectangle((-0.05, 0.0), 0.5, 1, linewidth=1, edgecolor='#333333',facecolor='#333333'))\n",
    "kofka_ax2.add_patch(patches.Rectangle((0.55, 0.0), 0.5, 1, linewidth=1, edgecolor='#bbbbbb',facecolor='#bbbbbb'))\n",
    "# adjustment of 0.005 to positioning of wedges to 'fix it'\n",
    "kofka_ax2.add_patch(patches.Wedge((0.555,0.5), 0.3, -90, 90, width=0.2, linewidth=1, edgecolor='#777777',facecolor='#777777'))\n",
    "kofka_ax2.add_patch(patches.Wedge((0.455,0.5), 0.3, 90, -90, width=0.2, linewidth=1, edgecolor='#777777',facecolor='#777777'));"
   ]
  },
  {
   "cell_type": "markdown",
   "metadata": {},
   "source": [
    "In the final image, the two halves have been slid vertically. This creates an illusion of transparency."
   ]
  },
  {
   "cell_type": "code",
   "execution_count": null,
   "metadata": {
    "collapsed": false
   },
   "outputs": [],
   "source": [
    "kofka_fig3 = plt.figure()\n",
    "kofka_ax3 = kofka_fig3.add_subplot(111, aspect='equal')\n",
    "kofka_ax3.add_patch(patches.Rectangle((0.0, 0.0), 0.5, 1, linewidth=1, edgecolor='#333333',facecolor='#333333'))\n",
    "kofka_ax3.add_patch(patches.Rectangle((0.5, 0.0), 0.5, 1, linewidth=1, edgecolor='#bbbbbb',facecolor='#bbbbbb'))\n",
    "kofka_ax3.add_patch(patches.Wedge((0.5,0.4), 0.3, -90, 90, width=0.196, linewidth=1, edgecolor='#777777',facecolor='#777777'))\n",
    "kofka_ax3.add_patch(patches.Wedge((0.5,0.6), 0.3, 90, -90, width=0.196, linewidth=1, edgecolor='#777777',facecolor='#777777'));"
   ]
  },
  {
   "cell_type": "markdown",
   "metadata": {},
   "source": [
    "### Exercise\n",
    "\n",
    "Try modifying the thickness of the rings above (the width parameter of the wedge patches) to see if that has any effect, as noted in the second reference below."
   ]
  },
  {
   "cell_type": "code",
   "execution_count": null,
   "metadata": {
    "collapsed": false
   },
   "outputs": [],
   "source": [
    "kofka_fig4, kofka_ax4 = plt.subplots(1, figsize=(10, 10),subplot_kw=dict(xticks=[],yticks=[]))\n",
    "plt.close(kofka_fig4) # stop rendering it twice!\n",
    "\n",
    "r1 = kofka_ax4.add_patch(patches.Rectangle((0.0, 0.0), 0.5, 1, linewidth=1, edgecolor='#333333',facecolor='#333333'))\n",
    "r2 = kofka_ax4.add_patch(patches.Rectangle((0.5, 0.0), 0.5, 1, linewidth=1, edgecolor='#bbbbbb',facecolor='#bbbbbb'))\n",
    "wedge4 = kofka_ax4.add_patch(patches.Wedge((0.5,0.5), 0.3, 0, 360, width=0.2, linewidth=1, edgecolor='#777777',\n",
    "                                           facecolor='#777777'))\n",
    "\n",
    "def upd(r_width=0.01):\n",
    "    wedge4.set_width(r_width)\n",
    "    display(kofka_fig4)\n",
    "    return None\n",
    "\n",
    "_ = interact(upd, r_width=(0.0,0.3,0.01))"
   ]
  },
  {
   "cell_type": "markdown",
   "metadata": {},
   "source": [
    "What you might \"see\" is that when the ring is very thin, the contrast illusion returns, and the two halves appear to be of a different intensity. However once perceived that way, you can move the slider, increase the width and **still** see differing intensity, which will last until you look away and back again."
   ]
  },
  {
   "cell_type": "markdown",
   "metadata": {},
   "source": [
    "### Colour and Edges\n",
    "\n",
    "Let's bring some colour back into the scene. How might these perceptual issues affect our ability to decode colours?\n",
    "\n",
    "The following embedded d3.js web page, lays out a grid of randomised colours, such as what we might get from mapping colours to some random data.\n",
    "\n",
    "It appears as a nice \"patchwork\" of colours. However, press the *Sort by colour* link and watch as the individual patches move around to be ordered by hue and intensity. Notice anything? "
   ]
  },
  {
   "cell_type": "code",
   "execution_count": null,
   "metadata": {
    "collapsed": false
   },
   "outputs": [],
   "source": [
    "IFrame(('colour-mixing-illusion/index.html'), width=640, height=640)"
   ]
  },
  {
   "cell_type": "markdown",
   "metadata": {},
   "source": [
    "When arranged by colour, the visual system kicks in and starts to see the whole grid as being \"illuminated\". It actually makes it look like a different set of colours.\n",
    "\n",
    "The more subtle edges are enhanced through the phenomena known as \"Mach Banding\" which exaggerates the contrast.\n",
    "\n",
    "<a href=\"https://en.wikipedia.org/wiki/Mach_bands\">[Wikipedia]</a>\n",
    "\n",
    "The effect can be broken by using the *Scale using shrink* option. With the white gaps in-between, the soft-edges have gone and the contrast is no longer enhanced."
   ]
  },
  {
   "cell_type": "markdown",
   "metadata": {},
   "source": [
    "## It's incredibly important"
   ]
  },
  {
   "cell_type": "markdown",
   "metadata": {},
   "source": [
    "![War](images/rabbit_duck.jpg)"
   ]
  },
  {
   "cell_type": "markdown",
   "metadata": {},
   "source": [
    "## Further Reading\n",
    "\n",
    "> Thanks to Jake Vanderplas and this blog post for providing the grayify code and the basis for this notebook: https://jakevdp.github.io/blog/2014/10/16/how-bad-is-your-colormap/\n",
    "\n",
    "> IEEE Computer Graphics and Applications paper on why the Rainbow Color Map **Still** Considered Harmful: https://github.com/djoshea/matlab-utils/blob/master/libs/perceptuallyImprovedColormaps/Rainbow%20Color%20Map%20-Still-%20Considered%20Harmful.pdf\n",
    "\n",
    "> More information about the **Cubehelix** colourmap: https://www.mrao.cam.ac.uk/~dag/CUBEHELIX/\n",
    "\n",
    "> [1] http://www.cns.nyu.edu/~david/courses/perception/lecturenotes/brightness-contrast/brightness-contrast.html\n",
    "\n",
    "> [2] http://precedings.nature.com/documents/1433/version/1"
   ]
  },
  {
   "cell_type": "code",
   "execution_count": null,
   "metadata": {
    "collapsed": true
   },
   "outputs": [],
   "source": []
  }
 ],
 "metadata": {
  "anaconda-cloud": {},
  "kernelspec": {
   "display_name": "Python [conda root]",
   "language": "python",
   "name": "conda-root-py"
  },
  "language_info": {
   "codemirror_mode": {
    "name": "ipython",
    "version": 3
   },
   "file_extension": ".py",
   "mimetype": "text/x-python",
   "name": "python",
   "nbconvert_exporter": "python",
   "pygments_lexer": "ipython3",
   "version": "3.5.2"
  }
 },
 "nbformat": 4,
 "nbformat_minor": 1
}
