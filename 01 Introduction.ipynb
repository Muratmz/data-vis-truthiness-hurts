{
 "cells": [
  {
   "cell_type": "markdown",
   "metadata": {},
   "source": [
    "<div style=\"border-bottom: 2px solid #aaaaaa; border-right: 2px solid #aaaaaa; box-shadow: 5px 5px 3px #eeeeee;\">\n",
    "<h1>01 &#9658; Introduction</h1>\n",
    "</div>"
   ]
  },
  {
   "cell_type": "markdown",
   "metadata": {
    "nbpresent": {
     "id": "b87f63c6-af78-4b74-9c31-1d486a9ce8f7"
    }
   },
   "source": [
    "## Data Visualization - Why?"
   ]
  },
  {
   "cell_type": "markdown",
   "metadata": {},
   "source": [
    "### Data Analysis\n",
    "\n",
    "- We're asking questions about the data\n",
    "- Trying to make sense of some underlying stories\n",
    "- Better decision making through access to data\n",
    "- Greater understanding\n",
    "\n",
    "### Communication\n",
    "\n",
    "- Present the data, the analysis, the stories\n",
    "- Inform, educate, entertain\n",
    "- Monitor, validate"
   ]
  },
  {
   "cell_type": "markdown",
   "metadata": {},
   "source": [
    "## Data Visualization - What?\n",
    "\n",
    "### Visual and External Representation\n",
    "\n",
    "- Turning data into a picture\n",
    "\n",
    "- Visual representation aids people to carry out tasks\n",
    "- Is used to augment human capabilities \n",
    "- Exploit powerful human visual pattern detection\n",
    "\n",
    "\n",
    "- External representation (external memory) augments our capacity\n",
    "- Surpass limitations of internal cognition and memory\n",
    "- Diagrams that organise by spatial location enhance search and recognition\n",
    "- Can be physical objects as well as computer displays\n",
    "\n",
    "\n",
    "### What we need to think about\n",
    "\n",
    "- Consider design principles\n",
    "- Work with human visual perception"
   ]
  },
  {
   "cell_type": "markdown",
   "metadata": {
    "nbpresent": {
     "id": "1aa5102f-d021-4725-bab0-6d9e0d7105db"
    }
   },
   "source": [
    "### Do you know where these locations are from their latitude and longitude?\n",
    "\n",
    "- 53.47063, -2.23603\n",
    "- 53.47439, -2.25214\n",
    "- 53.47732, -2.23710"
   ]
  },
  {
   "cell_type": "code",
   "execution_count": null,
   "metadata": {
    "collapsed": true
   },
   "outputs": [],
   "source": [
    "from IPython.display import IFrame"
   ]
  },
  {
   "cell_type": "code",
   "execution_count": null,
   "metadata": {
    "collapsed": false
   },
   "outputs": [],
   "source": [
    "IFrame((\"https://www.google.com/maps/d/embed?mid=1ZZjynLY-Wq0Z00e2aaEyc5Fh2Z4&hl=en\"), width=640, height=480)"
   ]
  },
  {
   "cell_type": "markdown",
   "metadata": {},
   "source": [
    "## Human-in-the-loop\n",
    "\n",
    "- Why not use some automated system?\n",
    "- Use statistical analysis to derive some overall meaning?\n",
    "- Use machine learning for complex datasets?\n",
    "\n",
    "\n",
    "- Useful when the questions are well known and structured\n",
    "- And the statistical analysis or machine learning algorithm is known to deliver the results\n",
    "\n",
    "\n",
    "- However, lots of data is poorly understood\n",
    "- The reliability and suitability of the analysis is unknown or insufficient\n",
    "- There are potentially many (changing) questions to ask\n",
    "\n",
    "\n",
    "- Sometimes there are no suitable automated mechanisms available\n",
    "- No systems that can yet compete with the human visual system\n",
    "\n",
    "\n",
    "- Sometimes a human needs to be in the loop"
   ]
  },
  {
   "cell_type": "markdown",
   "metadata": {
    "nbpresent": {
     "id": "69de69d2-0ac3-4e2d-a14c-1268717a0753"
    }
   },
   "source": [
    "### Anscombe’s Quartet\n",
    "\n",
    "In 1973, Francois Anscombe devised these four datasets to demonstrate the benefit of using visualization in addition to statistical methods for analysis."
   ]
  },
  {
   "cell_type": "code",
   "execution_count": null,
   "metadata": {
    "collapsed": true
   },
   "outputs": [],
   "source": [
    "%matplotlib inline\n",
    "import numpy as np\n",
    "import matplotlib.pyplot as plt\n",
    "from IPython.display import Image\n",
    "from IPython.core.display import HTML "
   ]
  },
  {
   "cell_type": "code",
   "execution_count": null,
   "metadata": {
    "collapsed": true
   },
   "outputs": [],
   "source": [
    "data = np.genfromtxt('data/anscombe.csv', delimiter=',', names=True, filling_values=0.0, dtype=None)"
   ]
  },
  {
   "cell_type": "markdown",
   "metadata": {},
   "source": [
    "Let's initially take a look in tabular form."
   ]
  },
  {
   "cell_type": "code",
   "execution_count": null,
   "metadata": {
    "collapsed": false
   },
   "outputs": [],
   "source": [
    "# deliberately messy/nasty code or just ran out of time?\n",
    "\n",
    "print(\"  Set I     ||   Set II    ||   Set III   ||   Set IV\")\n",
    "print(\"  x1 |   y1 ||   x2 |   y2 ||   x3 |   y3 ||   x4 |  y4\")\n",
    "print(\"-----+------++------+------++------+------++------+-----\")\n",
    "for row in data:  \n",
    "    print (\"%4.1f | %4.1f || %4.1f | %4.1f || %4.1f | %4.1f || %4.1f | %4.1f\" % (row['x1'], row['y1'], row['x2'], row['y2'], row['x3'], row['y3'], row['x4'], row['y4']))"
   ]
  },
  {
   "cell_type": "markdown",
   "metadata": {
    "nbpresent": {
     "id": "a55b1382-839b-4ddf-a8d9-6379d83ad2dc"
    }
   },
   "source": [
    "Perhaps you can start to visualize in your mind what is going on with these four datasets but it takes some *\"thinking\"*. On inspection **Set IV** has some unusual *x values*. It doesn't help that the others sets don't even have x values in order.\n",
    "\n",
    "Some statistical analysis produces the following. All four sets have *nearly identical* statistical properties:\n",
    "\n",
    "- Mean of x = 9\n",
    "- Variance of x = 11\n",
    "- Mean of y = ~7.50\n",
    "- Variance of y = [4.122,4.127]\n",
    "- Correlation between x and y = 0.816\n",
    "- Linear regression of y = 3 + 0.5x\n",
    "\n",
    "Yet, when plotted, they look like very different."
   ]
  },
  {
   "cell_type": "code",
   "execution_count": null,
   "metadata": {
    "collapsed": false
   },
   "outputs": [],
   "source": [
    "best_fit = {'x':[0,20],'y':[3,13]}\n",
    "fig,ax = plt.subplots(2,2,figsize=(10,10))\n",
    "\n",
    "ax[0][0].plot(data['x1'],data['y1'],'ro')\n",
    "ax[0][0].set_title('Set I')\n",
    "ax[0][0].set_xlim([3,20])\n",
    "ax[0][0].set_ylim([2,14])\n",
    "ax[0][0].plot(best_fit['x'], best_fit['y'])\n",
    "\n",
    "ax[0][1].plot(data['x2'],data['y2'],'ro')\n",
    "ax[0][1].set_title('Set II')\n",
    "ax[0][1].set_xlim([3,20])\n",
    "ax[0][1].set_ylim([2,14])\n",
    "ax[0][1].plot(best_fit['x'], best_fit['y'])\n",
    "\n",
    "ax[1][0].plot(data['x3'],data['y3'],'ro')\n",
    "ax[1][0].set_title('Set III')\n",
    "ax[1][0].set_xlim([3,20])\n",
    "ax[1][0].set_ylim([2,14])\n",
    "ax[1][0].plot(best_fit['x'], best_fit['y'])\n",
    "\n",
    "ax[1][1].plot(data['x4'],data['y4'],'ro')\n",
    "ax[1][1].set_title('Set IV')\n",
    "ax[1][1].set_xlim([3,20])\n",
    "ax[1][1].set_ylim([2,14])\n",
    "ax[1][1].plot(best_fit['x'], best_fit['y']);"
   ]
  },
  {
   "cell_type": "markdown",
   "metadata": {},
   "source": [
    "## Types of Visualization\n",
    "\n",
    "While all visualization is an attempt to plot data in one form or another, the academic fields of visualization\n",
    "are commonly broken down into areas such as Scientific Visualization, Information Visualization, Illustrative Visualization,\n",
    "and Visual Analytics etc. Sometimes there are specialist areas e.g., molecular visualization.\n",
    "\n",
    "### Scientific Visualization\n",
    "\n",
    "- Usually means physical/scientific raw data\n",
    "- Visualized with spatial/geometric representation\n",
    "- Matches that of the data and physical world\n",
    "\n",
    "Examples:\n",
    "\n",
    "- X-ray (medical) volumes\n",
    "- Engineering models and simulations\n",
    "- Fluid flow through valves"
   ]
  },
  {
   "cell_type": "markdown",
   "metadata": {},
   "source": [
    "<div style=\"background-color: #eef5f5; border-left: 2px solid black; border-right: 2px solid black; padding: 10px\">\n",
    "<h3 style=\"font-variant: small-caps;\">Visualization of the Young's Modulus on a Random Finite Element Model of a Nuclear Graphite Brick</h3>\n",
    "![Visualization of the Young's Modulus on a Random Finite Element Model of a Nuclear Graphite Brick](images/rfem_brick.png)\n",
    "<a href=\"http://parafem.org\"><small>[Source]</small></a></div>"
   ]
  },
  {
   "cell_type": "markdown",
   "metadata": {},
   "source": [
    "In real life the (similar) brick looks like this. And it's easy to see the direct mapping between the real world and the data/model representation."
   ]
  },
  {
   "cell_type": "markdown",
   "metadata": {},
   "source": [
    "<div style=\"background-color: #eef5f5; border-left: 2px solid black; border-right: 2px solid black; padding: 10px\">\n",
    "<h3 style=\"font-variant: small-caps;\">Nuclear Graphite Brick</h3>\n",
    "![Nuclear Graphite Brick](images/graphite_brick.jpg)\n",
    "<a href=\"http://parafem.org\"><small>[Source]</small></a></div>"
   ]
  },
  {
   "cell_type": "markdown",
   "metadata": {},
   "source": [
    "### Information Visualization (the main focus of this workshop)\n",
    "\n",
    "- Has a greater focus on abstract\n",
    "- Possibly non-numerical data\n",
    "- Requires some **convention** to be applied to represent it spatially\n",
    "\n",
    "Examples:\n",
    "\n",
    "- Population chart\n",
    "- Social network graphs\n",
    "- Calendar"
   ]
  },
  {
   "cell_type": "markdown",
   "metadata": {},
   "source": [
    "<div style=\"background-color: #eef5f5; border-left: 2px solid black; border-right: 2px solid black; padding: 10px\">\n",
    "<h3 style=\"font-variant: small-caps;\">One representation of a calendar</h3>\n",
    "![One representation of a calendar](images/calendar.png)\n",
    "<a href=\"https://bl.ocks.org/mbostock/4063318\"><small>[Source]</small></a></div>"
   ]
  },
  {
   "cell_type": "markdown",
   "metadata": {},
   "source": [
    "Are days of the week actually little squares? Are months of year physically positioned like this? ;-)"
   ]
  },
  {
   "cell_type": "markdown",
   "metadata": {},
   "source": [
    "## Representation and Convention\n",
    "\n",
    "- Lots of data is abstract in nature\n",
    "- It does not have a direct *physical* representation\n",
    "- We must apply some *conventions* and *abstractions* to translate from data to picture\n",
    "\n",
    "\n",
    "- The table of Anscombe's Quartet data allows individual values to be looked up precisely\n",
    "- However, as it showed it's not the ideal format for identifying patterns, observing trends or spotting outliers\n",
    "\n",
    "\n",
    "### Abstract Visualization Objects\n",
    "\n",
    "- To achieve the translation from data to picture we must map the data to one or more Abstract Visualization Objects (AVOs)\n",
    "- An AVO is some visual representation that can be parameterised"
   ]
  },
  {
   "cell_type": "code",
   "execution_count": null,
   "metadata": {
    "collapsed": false
   },
   "outputs": [],
   "source": [
    "line_fig,line_ax = plt.subplots(1,1,figsize=(8,4))\n",
    "\n",
    "line_ax.set_title('Line AVO and some example styles')\n",
    "line_ax.set_xlim([0,12])\n",
    "line_ax.set_ylim([0,6])\n",
    "\n",
    "line_ax.plot([1,5], [1,5],'k-')\n",
    "line_ax.plot([2,6], [1,5],'r-')\n",
    "line_ax.plot([3,7], [1,5],'y--')\n",
    "line_ax.plot([4,8], [1,5],'co--')\n",
    "line_ax.plot([4,8], [1,5],'b*:')\n",
    "line_ax.plot([5,9], [1,5],'m-', linewidth=3)\n",
    "line_ax.plot([6,10], [1,5],'gd-.', linewidth=2, markersize=15)\n",
    "line_ax.arrow(7, 1, 4, 4, head_width=0.5, head_length=0.5, fc='r', ec='k');"
   ]
  },
  {
   "cell_type": "markdown",
   "metadata": {},
   "source": [
    "- e.g., a single straight line segment\n",
    " - has two x,y coordinates \\*\n",
    " - has a thickness\n",
    " - has a line style (solid, dotted, dashed, etc)\n",
    " - has a colour (perhaps just greyscale intensity)\n",
    " - has an opacity\n",
    " - has a head and/or tail marker/glyph (arrows etc)\n",
    " - has a head/tail marker colour\n",
    " - annotations\n",
    "- And that's before any consideration for its relationship and connectivity with other AVOs, or its temporal nature\n",
    "\n",
    "\\* Note: Actually the x's and y's are independent ordinates themselves.\n",
    "\n",
    "- From the dataset, one or more, or a combination of the data variables can be used to *parameterise* the AVOs\n",
    "- Assuming the data variable is appropriate, or can be prepared by *mapping* and *filtering*\n",
    "- e.g., for the Anscombe datasets (which is relatively simple)\n",
    " - each x,y point maps directly to x,y positions on the plot\n",
    " - each x,y point is represented as a small circle glyph\n",
    " - the colour is statically chosen\n",
    " - the size of the glyph has been chosen"
   ]
  },
  {
   "cell_type": "markdown",
   "metadata": {},
   "source": [
    "### Effective Data Mapping\n",
    "\n",
    "- There are two principle **Data Classifications** that we can use to help with the abstraction and mapping of data:\n",
    " - *Quantitative data* - essentially magnitude values and ordered data\n",
    " - *Categorical data* - identity data and unordered data\n",
    "\n",
    "\n",
    "- There are several geometric **Data Primitives** (AKA marks) that can be used to represent data:\n",
    " - Points\n",
    " - Lines\n",
    " - Areas\n",
    " - Volumes\n",
    " \n",
    "\n",
    "- Several **Data Channels**\\* for controlling their appearance:\n",
    " - Quantitative Data:\n",
    "   - Position\n",
    "     - On dependent scales\n",
    "     - On independent/unaligned scales\n",
    "   - Length\n",
    "   - Angle\n",
    "   - Area\n",
    "   - Depth\n",
    "   - Luminance\n",
    "   - Saturation\n",
    "   - Curvature\n",
    "   - Volume\n",
    " - Categorical Data:\n",
    "   - Spatial location\n",
    "   - Hue\n",
    "   - Motion\n",
    "   - Shape (Glyph)\n",
    "\n",
    "\n",
    "- And several **Gestalt Principles of Perception** covering how we see patterns and forms:\n",
    "  - Proximity\n",
    "  - Similarity\n",
    "  - Enclosure\n",
    "  - Closure\n",
    "  - Continuity\n",
    "  - Connection\n",
    "  \n",
    "  \n",
    "- The primitives and channels are used to build all data visualizations no matter how complex and can use the principles of percerption to take advantage of our visual system.\n",
    "\n",
    "\n",
    "\\* Note: The data channels above are ordered in regards to their overall effectiveness, from best to worst."
   ]
  },
  {
   "cell_type": "markdown",
   "metadata": {},
   "source": [
    "### Human Visual Perception\n",
    "\n",
    "The reason for the data classification used above, is that it maps onto how our visual system works. The visual cortex of the brain - the \"seeing\" part - operates in two modalities: identity (what or where something is) and magnitude (how much there is).\n",
    "\n",
    "\n",
    "The brain's cerebral cortex - the \"thinking\" part - is responsible for asking and answering the questions we have, such as *how long is that line*, and *is it longer than that other line?*\n",
    "\n",
    "\n",
    "The visual cortex is fast and efficient; the cerebral cortex is slow and inefficient. Therefore analysing a basic data table requires a great deal more cognition than a representative visualization does, because the external visualization shifts the hard work to the visual cortex and frees our mind to pose the important questions."
   ]
  },
  {
   "cell_type": "markdown",
   "metadata": {},
   "source": [
    " ### Visualization Pipeline\n",
    " \n",
    " - The whole process of visualization is effectively a pipeline\n",
    " - The Haber & McNabb model shows how the various forms of the data flows from source to display"
   ]
  },
  {
   "cell_type": "markdown",
   "metadata": {},
   "source": [
    "![Haber & McNabb Visualization Pipeline](images/Dossantos04vis_pipeline.png)\n",
    "\n",
    "<a href=\"http://www.infovis-wiki.net/index.php/Visualization_Pipeline\"><small>[InfoVis Wiki]</small></a></div>"
   ]
  },
  {
   "cell_type": "markdown",
   "metadata": {},
   "source": [
    "### Visualization Idioms and Techniques\n",
    "\n",
    "While all of the primitives and channels are used to create visualizations, we generally don't produce an entire visualization from scratch from the low-level components. Instead, we're more likely to use high-level techniques and idioms.\n",
    "\n",
    "- Lots of visualization idioms\n",
    "- Many ways to encode data as a picture\n",
    "- Visit d3js.org for many example of Info Vis\n",
    "\n",
    "- Not always applicable to data or task\n",
    "- Use multiple appropriate techniques to compare and contrast"
   ]
  },
  {
   "cell_type": "markdown",
   "metadata": {},
   "source": [
    "<div style=\"background-color: #eef5f5; border-left: 2px solid black; border-right: 2px solid black; padding: 10px\">\n",
    "<h3 style=\"font-variant: small-caps;\">Start of the Examples page on d3js.org</h3>\n",
    "![Start of the Examples page on d3js.org](images/d3js_visual_index_top.png)\n",
    "<a href=\"http://d3js.org\"><small>[Source]</small></a></div>"
   ]
  },
  {
   "cell_type": "markdown",
   "metadata": {},
   "source": [
    "## Design and Ethics\n",
    "\n",
    "### Effectiveness\n",
    "\n",
    "- How effective is your visualization?\n",
    "- How effective is the choice of idiom (AVO)?\n",
    "\n",
    "\n",
    "- Relationship\n",
    "- Quantities\n",
    "- Comparison\n",
    "- Rank\n",
    "\n",
    "\n",
    "- Obvious?\n",
    "- \"Seeing\" vs \"thinking\"\n",
    "\n",
    "\n",
    "### Use of Visualization\n",
    "\n",
    "How are you going to use the visualization? Who is the audience and the delivery medium?\n",
    "\n",
    "- Static or dynamic and interactive?\n",
    " - Static visualization for presentation (especially print)\n",
    " - Dynamic web-app for interacting with data\n",
    "- Exploration or presentation?\n",
    " - Exploring the unknown\n",
    " - Confirming models and predictions\n",
    " - Presentation of the known\n",
    "- Short-term or long-term requirement?\n",
    " - Building towards the next automated tool\n",
    " - Validation and checking an existing tool\n",
    " - Teaching students or the public about how something works\n",
    " - Or will it be a \"permanent\" tool?\n",
    "\n",
    "### Summary\n",
    "\n",
    "- Careful choice about design, about the idioms used\n",
    "- Careful choice about the tool used, its appropriateness for the task\n",
    "- Careful choice about the effectiveness\n",
    "- Concern for the correctness, accuracy and truth\n",
    "- Careful choice about the emphasis\n",
    "\n",
    "> “It's not just about making pretty pictures\""
   ]
  },
  {
   "cell_type": "markdown",
   "metadata": {},
   "source": [
    "### Some Examples (on how not to do it)"
   ]
  },
  {
   "cell_type": "markdown",
   "metadata": {},
   "source": [
    "<div style=\"background-color: #eef5f5; border-left: 2px solid black; border-right: 2px solid black; padding: 10px\">\n",
    "<h3 style=\"font-variant: small-caps;\">Fox News and a rather large pie</h3>\n",
    "![Fox News and a rather large pie](images/Fox-News-pie-chart.png)\n",
    "<a href=\"http://viz.wtf\"><small>[Source]</small></a>\n",
    "<h3>&#x2717; Pie charts show proportions and the total should be 100%.</h3>\n",
    "<h3>&#x2717; Most likely respondents would ask if they would vote for said candidate \"if they were the choice\", not \"who would you choose\".</h3>\n",
    "</div>"
   ]
  },
  {
   "cell_type": "markdown",
   "metadata": {},
   "source": [
    "<div style=\"background-color: #eef5f5; border-left: 2px solid black; border-right: 2px solid black; padding: 10px\">\n",
    "<h3 style=\"font-variant: small-caps;\">In-pie-ception</h3>\n",
    "![In-pie-ception](images/biginsights.jpg)\n",
    "<a href=\"http://viz.wtf\"><small>[Source]</small></a>\n",
    "<h3>&#x2717; Too many categories for a pie chart.</h3>\n",
    "<h3>&#x2717; Too many pie charts!</h3>\n",
    "<h3>&#x2717; What does a pie chart in a cluster mean?</h3>\n",
    "<h3>&#x2717; What does the overall size of the pie charts mean?</h3>\n",
    "</div>"
   ]
  },
  {
   "cell_type": "markdown",
   "metadata": {},
   "source": [
    "<div style=\"background-color: #eef5f5; border-left: 2px solid black; border-right: 2px solid black; padding: 10px\">\n",
    "<h3 style=\"font-variant: small-caps;\">Web of Policies</h3>\n",
    "![Web of Policies](images/Cc6YayEWoAIcq8R.jpg)\n",
    "<a href=\"http://viz.wtf\"><small>[Source]</small></a>\n",
    "<h3>&#x2717; Nodes of graph are not clear - obstructed by overly large labels.</h3>\n",
    "<h3>&#x2717; Lots of connections but nothing to denote what the connection is or why it's important.</h3>\n",
    "</div>"
   ]
  },
  {
   "cell_type": "markdown",
   "metadata": {},
   "source": [
    "<div style=\"background-color: #eef5f5; border-left: 2px solid black; border-right: 2px solid black; padding: 10px\">\n",
    "<h3 style=\"font-variant: small-caps;\">There's some data but just what is the question?</h3>\n",
    "![There's some data but just what is the question?](images/tumblr_o3f706ys4l1sgh0voo1_1280.jpg)\n",
    "<a href=\"http://viz.wtf\"><small>[Source]</small></a>\n",
    "<h3>&#x2717; Chart title should be used to set the context and describe what's being shown.</h3>\n",
    "<h3>&#x2717; While the data might reflect \"favourable\", the title has made it unclear.</h3>\n",
    "</div>"
   ]
  },
  {
   "cell_type": "markdown",
   "metadata": {},
   "source": [
    "<div style=\"background-color: #eef5f5; border-left: 2px solid black; border-right: 2px solid black; padding: 10px\">\n",
    "<h3 style=\"font-variant: small-caps;\">Categorically wrong</h3>\n",
    "![Categorically wrong](images/trends.png)\n",
    "<a href=\"http://viz.wtf\"><small>[Source]</small></a>\n",
    "<h3>&#x2717; Colour mapping used is for sequential/quantitative data.</h3>\n",
    "<h3>&#x2717; Choice of similar colours makes it hard to discerne the candidates </h3>\n",
    "</div>"
   ]
  },
  {
   "cell_type": "markdown",
   "metadata": {},
   "source": [
    "<div style=\"background-color: #eef5f5; border-left: 2px solid black; border-right: 2px solid black; padding: 10px\">\n",
    "<h3 style=\"font-variant: small-caps;\">Funneldamental Error</h3>\n",
    "![Funneldamental Error](images/funnel.png)\n",
    "<a href=\"http://viz.wtf\"><small>[Source]</small></a>\n",
    "<h3>&#x2717; Chart is full of junk and uninterpretable parts.</h3>\n",
    "<h3>&#x2717; The funnel is segmented and has data placed alongside, but the scale of the segments bares no relationship to the data.</h3>\n",
    "<h3>&#x2717; Colour of the segments bares no relation to the data.</h3>\n",
    "<h3>&#x2717; Does a great job of obfuscating the data.</h3>\n",
    "</div>"
   ]
  },
  {
   "cell_type": "markdown",
   "metadata": {},
   "source": [
    "<div style=\"background-color: #eef5f5; border-left: 2px solid black; border-right: 2px solid black; padding: 10px\">\n",
    "<h3 style=\"font-variant: small-caps;\">Need for Quarantine</h3>\n",
    "![Need for Quarantine](images/effects.png)\n",
    "<a href=\"http://viz.wtf\"><small>[Source]</small></a>\n",
    "<h3>&#x2717; Pointless illustration to accompany what is ostensibly a list.</h3>\n",
    "<h3>&#x2717; Positioned annotations imply location is important.</h3>\n",
    "</div>"
   ]
  },
  {
   "cell_type": "markdown",
   "metadata": {
    "collapsed": true
   },
   "source": [
    "> ## “The purpose of [scientific] computing is insight not numbers’’\n",
    "> R W Hamming, Numerical Methods for Scientists & Engineers, 1962"
   ]
  },
  {
   "cell_type": "markdown",
   "metadata": {},
   "source": [
    "> ## “The purpose of visualization is insight, not pictures”\n",
    "> Ben Shneiderman, Information Visualization – Using Vision to Think, 1999"
   ]
  }
 ],
 "metadata": {
  "anaconda-cloud": {},
  "kernelspec": {
   "display_name": "Python [conda root]",
   "language": "python",
   "name": "conda-root-py"
  },
  "language_info": {
   "codemirror_mode": {
    "name": "ipython",
    "version": 3
   },
   "file_extension": ".py",
   "mimetype": "text/x-python",
   "name": "python",
   "nbconvert_exporter": "python",
   "pygments_lexer": "ipython3",
   "version": "3.5.2"
  },
  "nbpresent": {
   "slides": {
    "0176ea2c-d7a8-41e2-8b1e-afd38ac41d7f": {
     "id": "0176ea2c-d7a8-41e2-8b1e-afd38ac41d7f",
     "prev": "e6660fdb-2fa7-476d-ae47-2a5528620627",
     "regions": {
      "32eab988-5c51-45fc-b26d-57840d120494": {
       "attrs": {
        "height": 0.8,
        "width": 0.8,
        "x": 0.1,
        "y": 0.1
       },
       "content": {
        "cell": "6f5d0a77-b063-4b44-9403-c9060bafd5ba",
        "part": "whole"
       },
       "id": "32eab988-5c51-45fc-b26d-57840d120494"
      }
     }
    },
    "2c88b5e0-393e-47c3-8cc7-a2cad7f0f6d3": {
     "id": "2c88b5e0-393e-47c3-8cc7-a2cad7f0f6d3",
     "prev": "f0f24018-6379-4f26-8532-82686a66d208",
     "regions": {
      "3de8123d-2872-4f77-b39f-392d880e3949": {
       "attrs": {
        "height": 0.8,
        "width": 0.8,
        "x": 0.1,
        "y": 0.1
       },
       "content": {
        "cell": "76eaf99b-ed91-4412-b163-c14837a3bb8e",
        "part": "whole"
       },
       "id": "3de8123d-2872-4f77-b39f-392d880e3949"
      }
     }
    },
    "3922cab0-e550-406c-af3c-32fd7c398baa": {
     "id": "3922cab0-e550-406c-af3c-32fd7c398baa",
     "prev": "d881ee46-8a22-4117-8e68-445b8ce6ac51",
     "regions": {
      "a60574ab-ae33-4b6c-badc-e0910e36f708": {
       "attrs": {
        "height": 0.8,
        "width": 0.8,
        "x": 0.1,
        "y": 0.1
       },
       "content": {
        "cell": "69de69d2-0ac3-4e2d-a14c-1268717a0753",
        "part": "whole"
       },
       "id": "a60574ab-ae33-4b6c-badc-e0910e36f708"
      }
     }
    },
    "4f2554b1-e590-48c9-9ec6-c06138e910ee": {
     "id": "4f2554b1-e590-48c9-9ec6-c06138e910ee",
     "prev": "0176ea2c-d7a8-41e2-8b1e-afd38ac41d7f",
     "regions": {
      "2855b4b8-6ab0-4915-8fe8-76cbf8c257d4": {
       "attrs": {
        "height": 0.8,
        "width": 0.8,
        "x": 0.1,
        "y": 0.1
       },
       "content": {
        "cell": "e0114cd0-29bb-4c7b-b7f2-33786a9188a0",
        "part": "whole"
       },
       "id": "2855b4b8-6ab0-4915-8fe8-76cbf8c257d4"
      }
     }
    },
    "54f81d11-b992-49b3-8168-46c2c1a35d97": {
     "id": "54f81d11-b992-49b3-8168-46c2c1a35d97",
     "prev": "82342c84-7fcf-476d-8e7d-1d022a1eeff1",
     "regions": {
      "03785d9c-42d8-4752-bcd0-bb269f4bb9d7": {
       "attrs": {
        "height": 0.8,
        "width": 0.8,
        "x": 0.1,
        "y": 0.1
       },
       "content": {
        "cell": "e7f8fbbc-40a5-455d-b9d2-5ba6060ebf9a",
        "part": "whole"
       },
       "id": "03785d9c-42d8-4752-bcd0-bb269f4bb9d7"
      }
     }
    },
    "7c613192-4f37-4334-aebb-0d3c3a980b76": {
     "id": "7c613192-4f37-4334-aebb-0d3c3a980b76",
     "prev": null,
     "regions": {
      "b0f89d57-d4c5-48ba-97e9-a4766a81d092": {
       "attrs": {
        "height": 0.8,
        "width": 0.8,
        "x": 0.1,
        "y": 0.1
       },
       "content": {
        "cell": "b87f63c6-af78-4b74-9c31-1d486a9ce8f7",
        "part": "whole"
       },
       "id": "b0f89d57-d4c5-48ba-97e9-a4766a81d092"
      }
     }
    },
    "82342c84-7fcf-476d-8e7d-1d022a1eeff1": {
     "id": "82342c84-7fcf-476d-8e7d-1d022a1eeff1",
     "prev": "3922cab0-e550-406c-af3c-32fd7c398baa",
     "regions": {
      "36cfd350-95f9-4539-a405-86b6ed1485a2": {
       "attrs": {
        "height": 0.8,
        "width": 0.8,
        "x": 0.1,
        "y": 0.1
       },
       "content": {
        "cell": "4124b483-d274-4330-b1ec-5736b60072b5",
        "part": "whole"
       },
       "id": "36cfd350-95f9-4539-a405-86b6ed1485a2"
      }
     }
    },
    "945acfe6-125b-40f3-ade8-d646a018fad1": {
     "id": "945acfe6-125b-40f3-ade8-d646a018fad1",
     "prev": "2c88b5e0-393e-47c3-8cc7-a2cad7f0f6d3",
     "regions": {
      "2497797b-02c5-48cc-aa68-0fcb3a6970da": {
       "attrs": {
        "height": 0.8,
        "width": 0.8,
        "x": 0.1,
        "y": 0.1
       },
       "content": {
        "cell": "3b836db7-0410-4d97-9ffb-f6223b4709f6",
        "part": "whole"
       },
       "id": "2497797b-02c5-48cc-aa68-0fcb3a6970da"
      }
     }
    },
    "afdc976a-4438-4fd1-9496-257f6521212c": {
     "id": "afdc976a-4438-4fd1-9496-257f6521212c",
     "prev": "4f2554b1-e590-48c9-9ec6-c06138e910ee",
     "regions": {
      "62413bb3-6880-4718-b9a9-075f3d6eaa4b": {
       "attrs": {
        "height": 0.8,
        "width": 0.8,
        "x": 0.1,
        "y": 0.1
       },
       "content": {
        "cell": "612e7d4f-7000-42e9-a8c4-9c611fe292e1",
        "part": "whole"
       },
       "id": "62413bb3-6880-4718-b9a9-075f3d6eaa4b"
      }
     }
    },
    "d881ee46-8a22-4117-8e68-445b8ce6ac51": {
     "id": "d881ee46-8a22-4117-8e68-445b8ce6ac51",
     "prev": "945acfe6-125b-40f3-ade8-d646a018fad1",
     "regions": {
      "c14b2d61-3d76-46aa-a710-848a3d1e8b6a": {
       "attrs": {
        "height": 0.8,
        "width": 0.8,
        "x": 0.1,
        "y": 0.1
       },
       "content": {
        "cell": "1aa5102f-d021-4725-bab0-6d9e0d7105db",
        "part": "whole"
       },
       "id": "c14b2d61-3d76-46aa-a710-848a3d1e8b6a"
      }
     }
    },
    "e37ef940-bba7-4294-8bc5-1179ee096339": {
     "id": "e37ef940-bba7-4294-8bc5-1179ee096339",
     "prev": "afdc976a-4438-4fd1-9496-257f6521212c",
     "regions": {
      "89e5ea13-8f86-43ef-95d0-5594a301b3f1": {
       "attrs": {
        "height": 0.8,
        "width": 0.8,
        "x": 0.1,
        "y": 0.1
       },
       "content": {
        "cell": "1513febc-7d0c-4607-a04b-94bbd64fc89c",
        "part": "whole"
       },
       "id": "89e5ea13-8f86-43ef-95d0-5594a301b3f1"
      }
     }
    },
    "e6660fdb-2fa7-476d-ae47-2a5528620627": {
     "id": "e6660fdb-2fa7-476d-ae47-2a5528620627",
     "prev": "54f81d11-b992-49b3-8168-46c2c1a35d97",
     "regions": {
      "6a9f756b-05e6-413a-bab2-cf2c0fea2b82": {
       "attrs": {
        "height": 0.8,
        "width": 0.8,
        "x": 0.1,
        "y": 0.1
       },
       "content": {
        "cell": "a55b1382-839b-4ddf-a8d9-6379d83ad2dc",
        "part": "whole"
       },
       "id": "6a9f756b-05e6-413a-bab2-cf2c0fea2b82"
      }
     }
    },
    "e943d8ff-a7bb-45be-9123-011f84245967": {
     "id": "e943d8ff-a7bb-45be-9123-011f84245967",
     "prev": "e37ef940-bba7-4294-8bc5-1179ee096339",
     "regions": {
      "e302a15c-8212-4daf-9a32-5aebdad6cb09": {
       "attrs": {
        "height": 0.8,
        "width": 0.8,
        "x": 0.1,
        "y": 0.1
       },
       "content": {
        "cell": "c176a19f-db4d-4cfb-931b-ffdce75c41c9",
        "part": "whole"
       },
       "id": "e302a15c-8212-4daf-9a32-5aebdad6cb09"
      }
     }
    },
    "f0f24018-6379-4f26-8532-82686a66d208": {
     "id": "f0f24018-6379-4f26-8532-82686a66d208",
     "prev": "7c613192-4f37-4334-aebb-0d3c3a980b76",
     "regions": {
      "50208d7f-a18a-4b6b-abe2-c7f568a0e34e": {
       "attrs": {
        "height": 0.8,
        "width": 0.8,
        "x": 0.1,
        "y": 0.1
       },
       "content": {
        "cell": "e6cc0e7c-7373-43d6-bb81-cce6c54a4395",
        "part": "whole"
       },
       "id": "50208d7f-a18a-4b6b-abe2-c7f568a0e34e"
      }
     }
    }
   },
   "themes": {}
  }
 },
 "nbformat": 4,
 "nbformat_minor": 1
}
