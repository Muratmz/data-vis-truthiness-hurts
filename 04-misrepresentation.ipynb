{
 "cells": [
  {
   "cell_type": "markdown",
   "metadata": {},
   "source": [
    "<div style=\"border-bottom: 2px solid #aaaaaa; border-right: 2px solid #aaaaaa; box-shadow: 5px 5px 3px #eeeeee;\">\n",
    "<h1>04 &#9658; Misrepresentation</h1>\n",
    "</div>"
   ]
  },
  {
   "cell_type": "markdown",
   "metadata": {},
   "source": [
    "## Beyond the tools\n",
    "\n",
    "So you've mapped data the appropriately and correctly to the various marks and channels... does that mean the data visualization is now \"correct\", \"accurate\", \"truthful\" or \"ethical\"?\n",
    "\n",
    "\n",
    "No.\n",
    "\n",
    "\n",
    "But it can \"look right\". And this is how we come to \"truthiness\"."
   ]
  },
  {
   "cell_type": "markdown",
   "metadata": {},
   "source": [
    "> ### truthiness\n",
    " > */ˈtruːθɪnəs/*<br/>\n",
    " > noun *informal*\n",
    "> #### **the quality of seeming or being felt to be true, even if not necessarily true.**"
   ]
  },
  {
   "cell_type": "markdown",
   "metadata": {},
   "source": [
    "American television comedian Stephen Colbert coined the word in this meaning as the subject of a segment called \"The Wørd\" during the pilot episode of his political satire program The Colbert Report on October 17, 2005.\n",
    "\n",
    "> Truthiness is a quality characterizing a \"truth\" that a person making an argument or assertion claims to know intuitively \"from the gut\" or because it \"feels right\" without regard to evidence, logic, intellectual examination, or facts.\n",
    "\n",
    "<a href=\"https://en.wikipedia.org/wiki/Truthiness\"><small>[Wikipedia]</small></a>"
   ]
  },
  {
   "cell_type": "markdown",
   "metadata": {},
   "source": [
    "### How to achieve truthiness in data visualization\n",
    "\n",
    "Without careful consideration and attention to detail it's easy to overlook something and end up with a data visualization that looks right but isn't as good as it could be. It will depend on the audience, their experience and understanding of visualization and how extensive their vocabulary is (the grammar of graphics).\n",
    "\n",
    "Like general numeracy skills, a knowledge of data visualization is not well taught, and so assuming that the audience will be able to understand it is not a given. If you find yourself making a statement such as \"they'll be able to work out what I mean\" then you've probably fallen short.\n",
    "\n",
    "**But is oversight the only route to truthiness?**\n",
    "\n",
    "No, some people will deliberately manipulate the data visualization to mislead you, trigger gut emotions, present opinion as fact and outright lie to you.\n",
    "\n",
    "The disingenuous tricks are well understood but not by the many. Here are some examples."
   ]
  },
  {
   "cell_type": "markdown",
   "metadata": {},
   "source": [
    "## Cropped Axes\n",
    "\n",
    "The axes used in the charts provide some context for the data being represented. By changing the axis limits (and hence the range) we can alter the perception of the data and maybe start to imply something that isn't there and/or hope that the audience will infer some meaning.\n",
    "\n",
    "Let's see what was shown when President G. W. Bush's tax cuts were about to expire..."
   ]
  },
  {
   "cell_type": "code",
   "execution_count": null,
   "metadata": {
    "collapsed": true
   },
   "outputs": [],
   "source": [
    "%matplotlib inline\n",
    "\n",
    "import matplotlib.pyplot as plt\n",
    "import numpy as np\n",
    "import pandas as pd"
   ]
  },
  {
   "cell_type": "code",
   "execution_count": null,
   "metadata": {
    "collapsed": false
   },
   "outputs": [],
   "source": [
    "bush_fig,bush_ax = plt.subplots(1,1,figsize=(6,6))\n",
    "bush_ax.bar([0.2,1.2],[35.0,39.6],0.6, color=\"lightskyblue\")\n",
    "bush_ax.set_xticks([0.5,1.5])\n",
    "xtick_names = bush_ax.set_xticklabels(['Now','Jan 2013'])\n",
    "bush_ax.set_xlim([0,2])\n",
    "bush_ax.set_ylabel('Top Tax Rate')\n",
    "bush_fig.suptitle('If Bush tax cuts expire...', fontsize=14, fontweight='bold')\n",
    "\n",
    "bush_ax.set_ylim([34,42]);"
   ]
  },
  {
   "cell_type": "markdown",
   "metadata": {},
   "source": [
    "A quick view of this chart might make viewers think that the tax rate is going to increase by a factor of **five**.\n",
    "\n",
    "Of course the simple explanation (given away by the title of the section) is that the y-axis has been cropped and it starts at 34%.\n",
    "\n",
    "Using a bar chart to represent data, means that the length (and area) of the rectangular bars is proportional to the quantitative data. Therefore we *measure* the length of the bars and we *compare* the two lengths.\n",
    "\n",
    "It *could* be worse: try changing the y-axis limits to [34.9,39.7] and see how dramatic it looks! Why not change the height of the figure and stretch it out even more?!\n",
    "\n",
    "**How should it look?**"
   ]
  },
  {
   "cell_type": "code",
   "execution_count": null,
   "metadata": {
    "collapsed": false
   },
   "outputs": [],
   "source": [
    "bush_ax.set_ylim([0,42])\n",
    "bush_fig"
   ]
  },
  {
   "cell_type": "markdown",
   "metadata": {},
   "source": [
    "It looks more reasonable now with the y-axis starting at zero. There's still a change in tax rate of course, which might still alarm some people, but at least it's now an *accurate* potrayal of the data and the situation.\n",
    "\n",
    "Oh, and that was yet another Fox News example.\n",
    "\n",
    "<a href=\"http://flowingdata.com/2012/08/06/fox-news-continues-charting-excellence/\">[Flowing Data]</a>"
   ]
  },
  {
   "cell_type": "markdown",
   "metadata": {},
   "source": [
    "### The Lie Factor\n",
    "\n",
    "One somewhat useful tool to counter truthiness comes from looking at the *Lie Factor*.\n",
    "\n",
    "We can determine a single value to describe the relation between the size of effect in the data representation and the size of effect shown in the source data. The *Lie Factor* was defined in Edward Tufte's book *“The Visual Display of Quantitative Information”* in 1983.\n",
    "\n",
    "> \"The representation of numbers, as physically measured on the surface of the graphic itself, should be directly proportional to the quantities represented.\"\n",
    "\n",
    "> --Edward Tufte\n",
    "\n",
    "<a href=\"http://www.infovis-wiki.net/index.php/Lie_Factor\"><small>[InfoVis Wiki]</small></a>\n",
    "\n",
    "**So what is it?**"
   ]
  },
  {
   "cell_type": "markdown",
   "metadata": {},
   "source": [
    "$$Lie\\ Factor = \\frac{size\\ of\\ effect\\ in\\ graphic}{size\\ of\\ effect\\ in\\ data}$$"
   ]
  },
  {
   "cell_type": "markdown",
   "metadata": {},
   "source": [
    "where:"
   ]
  },
  {
   "cell_type": "markdown",
   "metadata": {},
   "source": [
    "$$size\\ of\\ effect =  \\frac{\\vert\\ {last\\ value}-{first\\ value}\\ \\vert}{first\\ value}$$"
   ]
  },
  {
   "cell_type": "markdown",
   "metadata": {},
   "source": [
    "For the tax change bar chart above, calculating the lie factor gives us:\n",
    "\n",
    "$$Lie\\ Factor(Tax\\ Chart) = \\frac{\\frac{5.6\\ -\\ 1}{1}}{\\frac{39.6-35.0}{35.0}} = 35$$\n",
    "\n",
    "So the actual data shows an increase of **~13%**. Whereas the first chart shows the *\"data\"* change by **460%**!\n",
    "\n",
    "> To ensure the Integrity of a graphic, its *Lie Factor* should have a value **between 0.95 and 1.05**. If the value is less or greater, it indicates a substantial (and often intended) distortion, far beyond minor inaccuracies (e.g., caused by plotting)."
   ]
  },
  {
   "cell_type": "markdown",
   "metadata": {},
   "source": [
    "### Scaling the scales\n",
    "\n",
    "Quantitative data mapped to the linear y-scale is a perfectly good mapping. We have to choose some upper and lower limits on a chart, as we don't have an infinite amount of linear space in the y-axis. So what's a reasonable range to use?"
   ]
  },
  {
   "cell_type": "markdown",
   "metadata": {},
   "source": [
    "<div style=\"background-color: #eef5f5; border-left: 2px solid black; border-right: 2px solid black; padding: 10px\">\n",
    "<h3 style=\"font-variant: small-caps;\">The only climate chart you need to see</h3>\n",
    "![The only climate chart you need to see](images/only-climate-chart.png)\n",
    "<a href=\"https://twitter.com/NRO/status/676516015078039556/photo/1?ref_src=twsrc%5Etfw\"><small>[National Review]</small></a><br/>\n",
    "<a href=\"http://www.iflscience.com/environment/climate-change-deniers-misrepresent-data-and-get-called-out/\"><small>[IFL Science!]</small></a></div>"
   ]
  },
  {
   "cell_type": "markdown",
   "metadata": {},
   "source": [
    "As can be seen this chart doesn't really show climate data particularly well. The scale is \"arguably\" within sensible limits for temperature records, as these are temperatures found across the globe. However the data is showing an average and ends up reducing the dynamic range of the data to something useless and meaningless.... unless of course the goal is to hide the data.\n",
    "\n",
    "In response to the climate skeptics was this graph:"
   ]
  },
  {
   "cell_type": "markdown",
   "metadata": {},
   "source": [
    "<div style=\"background-color: #eef5f5; border-left: 2px solid black; border-right: 2px solid black; padding: 10px\">\n",
    "<h3 style=\"font-variant: small-caps;\">Let me zoom that for you</h3>\n",
    "![Let me zoom that for you](images/fixed-climate-chart.jpg)\n",
    "<a href=\"http://notawfulandboring.blogspot.co.uk/2016/02/climate-change-deniers-misrepresent.html\"><small>[Not Awful and Boring]</small></a></div>"
   ]
  },
  {
   "cell_type": "markdown",
   "metadata": {},
   "source": [
    "This shows a more useful and honest representation of the data. The upward trend is now clearly visible and stands out from the chaotic noise of the data. With the previous chart both the trend and noise were effectively eliminated.\n",
    "\n",
    "**Consider how this might affect the Lie Factor?**\n",
    "\n",
    "Haven't we zoomed in and cropped the y-axis, thus increasing the overall effect of the temperature data increase?! Yes, yes we have.\n",
    "\n",
    "There is a subtle difference though in what data channels are being used. While the position of each point on the line has a *length* above the bottom axis, the contiguous line itself it showing a) *relationship* as each data point connects to the next *x-axis position* across time and b) the *y-axis position* shows the *relative* change of the data.\n",
    "\n",
    "If in doubt show both and provide a textual explanation and justification."
   ]
  },
  {
   "cell_type": "markdown",
   "metadata": {},
   "source": [
    "### What a recovery!\n",
    "\n",
    "Let's take a look at some data visualization from the UK. This time the Sun and the Metro newspapers were excited to show that the British Pound has recovered after the Brexit vote with the subsequent announcement that Andrea Leadsom had quit the Tory leadership race..."
   ]
  },
  {
   "cell_type": "markdown",
   "metadata": {},
   "source": [
    "<div style=\"background-color: #eef5f5; border-left: 2px solid black; border-right: 2px solid black; padding: 10px\">\n",
    "<h3 style=\"font-variant: small-caps;\">The £ stages a strong recovery against the $ today after Leadsom quits the Tory leadership race</h3>\n",
    "![Strong Recovery against the dollar](images/recovery.jpg)\n",
    "<a href=\"http://metro.co.uk/2016/07/11/this-is-what-happened-to-the-pound-after-finance-expert-andrea-leadsom-pulled-out-5999946/\"><small>[Metro]</small></a></div>"
   ]
  },
  {
   "cell_type": "markdown",
   "metadata": {},
   "source": [
    "It certainly appeared to please a lot of people and it was inevitably retweeted lots of times with people hailing that \"everything was back to normal\" and \"everything was going to be alright\". Both the scales do give a hint that something might be awry but that's not the feature that people will be looking at.\n",
    "\n",
    "Then someone put it in context:"
   ]
  },
  {
   "cell_type": "markdown",
   "metadata": {},
   "source": [
    "<div style=\"background-color: #eef5f5; border-left: 2px solid black; border-right: 2px solid black; padding: 10px\">\n",
    "<h3 style=\"font-variant: small-caps;\">yeah big recovery.... Not</h3>\n",
    "![yeah big recovery.... Not](images/recovery_context.jpg)\n",
    "<a href=\"https://twitter.com/Daily_Ref/status/752475904526389248\"><small>[Twitter]</small></a></div>"
   ]
  },
  {
   "cell_type": "markdown",
   "metadata": {},
   "source": [
    "As you can see the original chart is so heavily cropped as to destroy any true context. A simple mistake or political propaganda?\n",
    "\n",
    "Note: The image is cropped at the bottom, but any guesses as to where June 23rd lies?"
   ]
  },
  {
   "cell_type": "markdown",
   "metadata": {},
   "source": [
    "## Defying Conventions"
   ]
  },
  {
   "cell_type": "markdown",
   "metadata": {},
   "source": [
    "<div style=\"background-color: #eef5f5; border-left: 2px solid black; border-right: 2px solid black; padding: 10px\">\n",
    "<h3 style=\"font-variant: small-caps;\">What harm could come from flipping the y-axis?</h3>\n",
    "![What harm could come from flipping the y-axis?](images/florida-gun-deaths.png)\n",
    "<a href=\"http://www.businessinsider.in/This-Chart-Shows-What-Happened-To-Gun-Deaths-In-Florida-After-Stand-Your-Ground-Was-Enacted/articleshow/30635752.cms\"><small>[Business Insider]</small></a></div>"
   ]
  },
  {
   "cell_type": "markdown",
   "metadata": {},
   "source": [
    "## Ever more devious\n",
    "\n",
    "**Don't just change the representation, why not change the data too?!**\n",
    "\n",
    "Data preparation, filtering data and deriving intermediate data is all well and good, but it's also an additional avenue for the ethically challenged denizens of the world.\n",
    "\n",
    "Let's take a look at some sales data from Apple:\n",
    "\n",
    "<a href=\"https://barefigur.es/companies/apple/products/\">[Data from Bare Figures]</a>"
   ]
  },
  {
   "cell_type": "code",
   "execution_count": null,
   "metadata": {
    "collapsed": false
   },
   "outputs": [],
   "source": [
    "df = pd.read_csv('data/apple-product-unit-sales.csv', index_col=0)\n",
    "df.dtypes.index"
   ]
  },
  {
   "cell_type": "code",
   "execution_count": null,
   "metadata": {
    "collapsed": true
   },
   "outputs": [],
   "source": [
    "colors = ['gold', 'yellowgreen', 'lightcoral', 'lightskyblue', 'pink']"
   ]
  },
  {
   "cell_type": "code",
   "execution_count": null,
   "metadata": {
    "collapsed": false
   },
   "outputs": [],
   "source": [
    "# generate the index and extract the labels\n",
    "x_index = range(len(df.index.values))\n",
    "x_labels = df.index.values\n",
    "\n",
    "# reduce the number of ticks and labels on the x-axis; step by 10\n",
    "x_index_ticks = np.array(range(0,len(x_index),10))\n",
    "x_index_labels = [x_labels[x] for x in x_index_ticks]"
   ]
  },
  {
   "cell_type": "code",
   "execution_count": null,
   "metadata": {
    "collapsed": false
   },
   "outputs": [],
   "source": [
    "# plot one line chart to show product unit sales\n",
    "\n",
    "a_fig1, a_ax1 = plt.subplots(1, 1, figsize=(14,6))\n",
    "\n",
    "# plot a line for each product and the total (column)\n",
    "for i, col in enumerate(df):\n",
    "    a_ax1.plot(x_index, df[col].values, 'o-', color=colors[i], label=col, linewidth=2)\n",
    "    \n",
    "a_ax1.set_xticks(x_index_ticks)\n",
    "a_ax1.set_xticklabels(x_index_labels)\n",
    "a_ax1.set_ylabel('Units in Millions')\n",
    "#kax3.set_ylim([0,250])\n",
    "\n",
    "# really need a legend this time\n",
    "a_ax1.legend(loc=2) # see http://matplotlib.org/api/pyplot_api.html#matplotlib.pyplot.legend for \"loc\" options\n",
    "\n",
    "# add overall title and render\n",
    "a_fig1.suptitle('Apple Quarterly Product Unit Sales', fontsize=14, fontweight='bold');"
   ]
  },
  {
   "cell_type": "markdown",
   "metadata": {},
   "source": [
    "*Notes: Apple reclassified the summary data of products from Q4/11 to Q3/14. Separate iPod unit sales and net sales are not being reported since Q4/14.*\n",
    "\n",
    "**What can we see?**\n",
    "\n",
    "- The chart seems fairly straightforward\n",
    "- Unit sales fluctuate; probably based on release dates\n",
    "- IPhone sales (gold) mostly has an upward trend, perhaps dropping in the last quarter reported\n",
    "- The trend for IPad unit sales (yellow green) seems to be *down*\n",
    "- The trend for Mac unit sales (light sky blue) is hard to discern as the scale is too large and sales relatively low\n",
    "- As noted, IPod sales (coral) stopped being reported separately but prior to that there was a *downward* trend, and possibly why separate sales stopped being reported\n",
    "\n",
    "**Downward trends are not want we want to report to shareholders and investors!**\n",
    "\n",
    "How can we make this chart more palatable to the audience?"
   ]
  },
  {
   "cell_type": "code",
   "execution_count": null,
   "metadata": {
    "collapsed": false
   },
   "outputs": [],
   "source": [
    "a_fig2, a_ax2 = plt.subplots(1, 1, figsize=(14,6))\n",
    "\n",
    "a_ax2.plot(x_index, df['Total'].values, 'o-', color=colors[4], label='Total', linewidth=2)\n",
    "a_ax2.set_xticks(x_index_ticks)\n",
    "a_ax2.set_xticklabels(x_index_labels)\n",
    "a_ax2.set_ylabel('Units in Millions')\n",
    "\n",
    "a_ax2.legend(loc=2)\n",
    "a_fig2.suptitle('Apple Quarterly Total Unit Sales', fontsize=14, fontweight='bold');"
   ]
  },
  {
   "cell_type": "markdown",
   "metadata": {},
   "source": [
    "**What can we see now?**\n",
    "\n",
    "- The chart is clearer, only one variable being reported\n",
    "- It's hidden the sales figures that showed a downward trend\n",
    "- Hmm, it being a less cluttered actually makes it more obvious that sales growth has slowed and *may be even starting to go down*?\n",
    "\n",
    "**Is there anything else we can do to *refocus* the message?**"
   ]
  },
  {
   "cell_type": "code",
   "execution_count": null,
   "metadata": {
    "collapsed": false
   },
   "outputs": [],
   "source": [
    "a_fig3, a_ax3 = plt.subplots(1, 1, figsize=(14,6))\n",
    "\n",
    "# csum = np.cumsum(df['iPhone'].values)\n",
    "a_ax3.plot(x_index, df['iPhone'].values, 'o-', color=colors[4], label='iPhone', linewidth=2)\n",
    "a_ax3.set_xticks(x_index_ticks)\n",
    "a_ax3.set_xticklabels(x_index_labels)\n",
    "a_ax3.set_ylabel('Units in Millions')\n",
    "a_ax3.set_xlim([34,70])\n",
    "\n",
    "a_ax3.legend(loc=2)\n",
    "a_fig3.suptitle('Apple Quarterly iPhone Unit Sales', fontsize=14, fontweight='bold');"
   ]
  },
  {
   "cell_type": "markdown",
   "metadata": {},
   "source": [
    "**And now?**\n",
    "\n",
    "- Let's not worry about the total but focus on the best selling product!\n",
    "- x-axis has been cropped - no sense in showing unit sales before the iPhone existed\n",
    "- Trend looks mostly upwards but *perhaps* begins to tail off at the end\n",
    "\n",
    "**Make it better!**"
   ]
  },
  {
   "cell_type": "code",
   "execution_count": null,
   "metadata": {
    "collapsed": false
   },
   "outputs": [],
   "source": [
    "a_fig4, a_ax4 = plt.subplots(1, 1, figsize=(14,6))\n",
    "\n",
    "s = pd.Series(df['iPhone'].values) # Pandas series to allow cumsum() with NaNs in data\n",
    "\n",
    "a_ax4.plot(x_index, s.cumsum(), 'o-', color=colors[4], label='iPhone', linewidth=2)\n",
    "a_ax4.set_xticks(x_index_ticks)\n",
    "a_ax4.set_xticklabels(x_index_labels)\n",
    "a_ax4.set_ylabel('Units in Millions')\n",
    "a_ax4.set_xlim([34,70])\n",
    "\n",
    "a_ax4.legend(loc=2)\n",
    "a_fig4.suptitle('Apple Cumulative iPhone Unit Sales', fontsize=14, fontweight='bold');"
   ]
  },
  {
   "cell_type": "markdown",
   "metadata": {},
   "source": [
    "**What are we seeing now?**\n",
    "\n",
    "- Cumulative sales of iPhones rather than per quarter figures\n",
    "- The chart title does say cumulative but from a quick view one might assume sales are continuing to rise and not realise what's being shown\n",
    "\n",
    "**This is great - it just keeps on going up!**\n",
    "\n",
    "At the very worst, cumulative sales will stay flat if all sales cease but never drop.\n",
    "\n",
    "**You know, it still looks like it's too cluttered...**"
   ]
  },
  {
   "cell_type": "code",
   "execution_count": null,
   "metadata": {
    "collapsed": false
   },
   "outputs": [],
   "source": [
    "a_fig5, a_ax5 = plt.subplots(1, 1, figsize=(14,6))\n",
    "\n",
    "a_ax5.plot(x_index, s.cumsum(), 'o-', color=colors[4], label='iPhone', linewidth=2)\n",
    "a_ax5.set_xticks([37,41,45,49,53,57,61,65,69])\n",
    "a_ax5.set_xticklabels(['2008', '2009','2010','2011', '2012', '2013', '2014', '2015','2016'])\n",
    "a_ax5.set_yticklabels([]) # bah, who needs scales?\n",
    "a_ax5.set_xlim([34,70])\n",
    "\n",
    "#a_ax4.legend(loc=2)\n",
    "a_fig5.suptitle('Apple Cumulative iPhone Sales', fontsize=14, fontweight='bold');"
   ]
  },
  {
   "cell_type": "markdown",
   "metadata": {},
   "source": [
    "**Up and up - who knows how millions and billions we've sold now?!**\n",
    "\n",
    "- Perhaps you're confident that your audience won't understand how a subtle change in *gradient* maps onto actual sales figures."
   ]
  },
  {
   "cell_type": "markdown",
   "metadata": {},
   "source": [
    "### What Apple Did"
   ]
  },
  {
   "cell_type": "markdown",
   "metadata": {},
   "source": [
    "<div style=\"background-color: #eef5f5; border-left: 2px solid black; border-right: 2px solid black; padding: 10px\">\n",
    "<h3 style=\"font-variant: small-caps;\">The chart Tim Cook doesn’t want you to see</h3>\n",
    "![The chart Tim Cook doesn’t want you to see](images/iphone-sales.jpg)\n",
    "<a href=\"http://qz.com/122921/the-chart-tim-cook-doesnt-want-you-to-see/\"><small>[Quartz]</small></a></div>"
   ]
  },
  {
   "cell_type": "markdown",
   "metadata": {},
   "source": [
    "### What Someone Else Did Next"
   ]
  },
  {
   "cell_type": "markdown",
   "metadata": {},
   "source": [
    "<div style=\"background-color: #eef5f5; border-left: 2px solid black; border-right: 2px solid black; padding: 10px\">\n",
    "<h3 style=\"font-variant: small-caps;\">A Better Chart</h3>\n",
    "![A Better Chart](images/lb_7986_adjusted_bw.png)\n",
    "<a href=\"http://qz.com/122921/the-chart-tim-cook-doesnt-want-you-to-see/\"><small>[Quartz]</small></a></div>"
   ]
  },
  {
   "cell_type": "markdown",
   "metadata": {},
   "source": [
    "## Why is tackling truthiness important?"
   ]
  },
  {
   "cell_type": "markdown",
   "metadata": {},
   "source": [
    "> \"We're not talking about truth, we're talking about something that seems like truth – the truth we want to exist\"\n",
    "\n",
    "> \"Truthiness is tearing apart our country, and I don't mean the argument over who came up with the word\"\n",
    "\n",
    "> \"It used to be, everyone was entitled to their own opinion, but not their own facts. But that's not the case anymore. Facts matter not at all. Perception is everything. It's certainty. People love the President [George W. Bush] because he's certain of his choices as a leader, even if the facts that back him up don't seem to exist. It's the fact that he's certain that is very appealing to a certain section of the country. I really feel a dichotomy in the American populace. What is important? What you want to be true, or what is true?...\"\n",
    "\n",
    "> &mdash; Stephen Colbert"
   ]
  },
  {
   "cell_type": "markdown",
   "metadata": {},
   "source": [
    "> “Ethical behavior is doing the right thing when no one else is watching - even when doing the wrong thing is legal.”\n",
    "\n",
    "> &mdash; Aldo Leopold"
   ]
  },
  {
   "cell_type": "markdown",
   "metadata": {},
   "source": [
    "<center><h1>What does that mean in the context of data visualization<br/> - where people are most definitely *watching*?</h1></center>"
   ]
  }
 ],
 "metadata": {
  "anaconda-cloud": {},
  "kernelspec": {
   "display_name": "Python [default]",
   "language": "python",
   "name": "python3"
  },
  "language_info": {
   "codemirror_mode": {
    "name": "ipython",
    "version": 3
   },
   "file_extension": ".py",
   "mimetype": "text/x-python",
   "name": "python",
   "nbconvert_exporter": "python",
   "pygments_lexer": "ipython3",
   "version": "3.5.2"
  }
 },
 "nbformat": 4,
 "nbformat_minor": 1
}
